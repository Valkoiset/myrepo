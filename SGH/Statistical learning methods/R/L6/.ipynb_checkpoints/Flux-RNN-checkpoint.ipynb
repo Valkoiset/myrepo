{
 "cells": [
  {
   "cell_type": "code",
   "execution_count": null,
   "metadata": {},
   "outputs": [],
   "source": [
    "using Flux\n",
    "using Flux: onehot, chunk, batchseq, throttle, crossentropy\n",
    "using StatsBase: wsample\n",
    "using Base.Iterators: partition\n",
    "\n",
    "cd(@__DIR__)\n",
    "\n",
    "isfile(\"input.txt\") ||\n",
    "  download(\"https://cs.stanford.edu/people/karpathy/char-rnn/shakespeare_input.txt\",\n",
    "           \"input.txt\")\n",
    "\n",
    "text = collect(String(read(\"input.txt\")))\n",
    "alphabet = [unique(text)..., '_']\n",
    "text = map(ch -> onehot(ch, alphabet), text)\n",
    "stop = onehot('_', alphabet)\n",
    "\n",
    "N = length(alphabet)\n",
    "seqlen = 50\n",
    "nbatch = 50\n",
    "\n",
    "Xs = collect(partition(batchseq(chunk(text, nbatch), stop), seqlen))\n",
    "Ys = collect(partition(batchseq(chunk(text[2:end], nbatch), stop), seqlen))\n",
    "\n",
    "m = Chain(\n",
    "  LSTM(N, 128),\n",
    "  LSTM(128, 128),\n",
    "  Dense(128, N),\n",
    "  softmax)\n",
    "\n",
    "m = gpu(m)\n",
    "\n",
    "function loss(xs, ys)\n",
    "  l = sum(crossentropy.(m.(gpu.(xs)), gpu.(ys)))\n",
    "  Flux.truncate!(m)\n",
    "  return l\n",
    "end\n",
    "\n",
    "opt = ADAM(params(m), 0.01)\n",
    "tx, ty = (gpu.(Xs[5]), gpu.(Ys[5]))\n",
    "\n",
    "evalcb = function ()\n",
    "  @show loss(tx, ty)\n",
    "  println(sample(deepcopy(m), alphabet, 40))\n",
    "end\n",
    "\n",
    "# Sampling\n",
    "function sample(m, alphabet, len; temp = 1)\n",
    "  Flux.reset!(m)\n",
    "  buf = IOBuffer()\n",
    "  c = rand(alphabet)\n",
    "  for i = 1:len\n",
    "    write(buf, c)\n",
    "    c = wsample(alphabet, m(onehot(c, alphabet)).data)\n",
    "  end\n",
    "  return String(take!(buf))\n",
    "end\n",
    "\n",
    "\n",
    "Flux.train!(loss, zip(Xs, Ys), opt,\n",
    "            cb = throttle(evalcb, 30))\n",
    "\n",
    "m = cpu(m)\n",
    "\n",
    "sample(m, alphabet, 1000) |> println"
   ]
  },
  {
   "cell_type": "code",
   "execution_count": null,
   "metadata": {
    "collapsed": true
   },
   "outputs": [],
   "source": []
  }
 ],
 "metadata": {
  "@webio": {
   "lastCommId": "622EAEE4998D402E951EEB52A6061625",
   "lastKernelId": "28bc6564-de61-4a4b-968e-c3641406aa17"
  },
  "kernelspec": {
   "display_name": "Julia 1.1.0",
   "language": "julia",
   "name": "julia-1.1"
  },
  "language_info": {
   "file_extension": ".jl",
   "mimetype": "application/julia",
   "name": "julia",
   "version": "1.1.0"
  }
 },
 "nbformat": 4,
 "nbformat_minor": 2
}
