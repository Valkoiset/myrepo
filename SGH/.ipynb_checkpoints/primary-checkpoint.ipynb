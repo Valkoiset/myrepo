{
 "cells": [
  {
   "cell_type": "code",
   "execution_count": 43,
   "metadata": {},
   "outputs": [
    {
     "name": "stdout",
     "output_type": "stream",
     "text": [
      "Enter the number:6\n",
      "2\n",
      "3\n",
      "5\n",
      "7\n",
      "11\n",
      "13\n"
     ]
    }
   ],
   "source": [
    "# task: Please write a program that lists the N first prime numbers \n",
    "# (you can ask the user for N or provide assign it some value at the beginning of your code).\n",
    "\n",
    "i = 0\n",
    "N = int(input(\"Enter the number:\"))\n",
    "for num in range(100): \n",
    "    if num > 1: \n",
    "        for n in range(2, num): \n",
    "            if (num % n) == 0: \n",
    "                break\n",
    "        else:\n",
    "            if i < N:\n",
    "                i += 1\n",
    "                print(num)\n",
    "            else:\n",
    "                break"
   ]
  },
  {
   "cell_type": "code",
   "execution_count": null,
   "metadata": {},
   "outputs": [],
   "source": []
  }
 ],
 "metadata": {
  "kernelspec": {
   "display_name": "Python 3",
   "language": "python",
   "name": "python3"
  },
  "language_info": {
   "codemirror_mode": {
    "name": "ipython",
    "version": 3
   },
   "file_extension": ".py",
   "mimetype": "text/x-python",
   "name": "python",
   "nbconvert_exporter": "python",
   "pygments_lexer": "ipython3",
   "version": "3.6.8"
  }
 },
 "nbformat": 4,
 "nbformat_minor": 2
}
