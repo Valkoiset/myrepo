{
 "cells": [
  {
   "cell_type": "code",
   "execution_count": 1,
   "metadata": {},
   "outputs": [
    {
     "data": {
      "text/plain": [
       "8×2 Array{Int64,2}:\n",
       " 10   4\n",
       " 20   6\n",
       " 30  10\n",
       " 40  20\n",
       " 50  40\n",
       " 60  11\n",
       " 70   5\n",
       " 80   4"
      ]
     },
     "metadata": {},
     "output_type": "display_data"
    },
    {
     "name": "stdout",
     "output_type": "stream",
     "text": [
      "Int64\n",
      "(8, 2)\n"
     ]
    }
   ],
   "source": [
    "time_alice = [\n",
    "  [10 4];\n",
    "  [20 5];\n",
    "  [30 6];\n",
    "  [40 7];\n",
    "  [50 10];\n",
    "  [60 8];\n",
    "  [70 6];\n",
    "  [80 2]       \n",
    "]\n",
    "\n",
    "time_bob = [\n",
    "  [10 4];\n",
    "  [20 6];\n",
    "  [30 10];\n",
    "  [40 20];\n",
    "  [50 40];\n",
    "  [60 11];\n",
    "  [70 5];\n",
    "  [80 4]\n",
    "]\n",
    "\n",
    "display(time_bob)\n",
    "println(eltype(time_bob))\n",
    "println(size(time_bob))"
   ]
  },
  {
   "cell_type": "code",
   "execution_count": 2,
   "metadata": {},
   "outputs": [
    {
     "data": {
      "text/plain": [
       "8×2 Array{Int64,2}:\n",
       " 10   4\n",
       " 20   6\n",
       " 30  10\n",
       " 40  20\n",
       " 50  40\n",
       " 60  11\n",
       " 70   5\n",
       " 80   4"
      ]
     },
     "execution_count": 2,
     "metadata": {},
     "output_type": "execute_result"
    }
   ],
   "source": [
    "time_bob"
   ]
  },
  {
   "cell_type": "code",
   "execution_count": 3,
   "metadata": {},
   "outputs": [
    {
     "name": "stdout",
     "output_type": "stream",
     "text": [
      "\u001b[32m\u001b[1m    Status\u001b[22m\u001b[39m `~/.julia/environments/v1.3/Project.toml`\n",
      " \u001b[90m [864edb3b]\u001b[39m\u001b[37m DataStructures v0.17.11\u001b[39m\n",
      " \u001b[90m [2913bbd2]\u001b[39m\u001b[37m StatsBase v0.32.2\u001b[39m\n",
      " \u001b[90m [9a3f8284]\u001b[39m\u001b[37m Random \u001b[39m\n",
      " \u001b[90m [2f01184e]\u001b[39m\u001b[37m SparseArrays \u001b[39m\n"
     ]
    }
   ],
   "source": [
    "] status StatsBase"
   ]
  },
  {
   "cell_type": "code",
   "execution_count": 21,
   "metadata": {},
   "outputs": [
    {
     "ename": "LoadError",
     "evalue": "syntax: unexpected \"]\"",
     "output_type": "error",
     "traceback": [
      "syntax: unexpected \"]\"",
      ""
     ]
    }
   ],
   "source": [
    "# ] add StatsBase"
   ]
  },
  {
   "cell_type": "code",
   "execution_count": 22,
   "metadata": {},
   "outputs": [],
   "source": [
    "using StatsBase"
   ]
  },
  {
   "cell_type": "code",
   "execution_count": 6,
   "metadata": {},
   "outputs": [
    {
     "data": {
      "text/plain": [
       "100×100 Array{Int64,2}:\n",
       " 4  3  4  4  6  3  2  4  6  1  4  6  5  …  1  3  3  2  5  3  3  2  4  6  3  1\n",
       " 5  3  1  4  3  5  5  3  4  6  2  2  4     4  1  5  4  2  3  3  5  6  6  5  4\n",
       " 5  2  5  4  3  2  2  4  3  2  3  2  5     5  5  6  3  3  4  4  2  2  5  4  5\n",
       " 3  4  6  4  4  4  3  3  5  6  3  5  1     1  1  1  4  6  1  5  3  3  3  2  1\n",
       " 4  2  4  4  6  3  5  2  2  3  1  2  2     1  2  2  5  6  6  2  3  4  5  2  6\n",
       " 4  3  1  6  1  5  1  2  1  2  3  2  3  …  2  5  4  1  5  1  6  4  5  3  1  6\n",
       " 6  1  5  2  5  5  5  3  1  6  5  6  1     6  2  1  5  2  1  6  4  2  4  4  1\n",
       " 2  2  4  6  3  5  6  5  4  4  5  1  4     5  2  2  2  4  4  4  2  4  6  4  6\n",
       " 5  5  4  3  6  3  2  6  5  5  5  3  4     5  3  2  4  3  3  5  3  4  6  2  2\n",
       " 1  6  1  6  5  4  5  4  2  5  6  1  4     5  6  4  3  6  4  3  4  3  3  4  3\n",
       " 1  2  2  1  2  6  3  1  5  3  2  5  1  …  4  6  5  3  4  1  5  4  1  2  3  2\n",
       " 1  6  2  2  1  3  4  3  4  1  6  3  6     3  6  2  3  3  1  3  5  3  2  5  3\n",
       " 6  2  5  4  5  5  5  6  4  2  6  5  6     5  5  3  4  6  6  6  3  3  6  2  6\n",
       " ⋮              ⋮              ⋮        ⋱        ⋮              ⋮            \n",
       " 2  5  5  5  2  2  4  3  3  5  1  3  2     2  1  3  1  1  5  5  4  3  2  5  6\n",
       " 1  3  3  1  5  6  6  4  6  4  6  2  5     2  4  4  4  3  3  3  3  1  1  4  2\n",
       " 2  4  2  1  1  3  6  4  2  5  3  3  1  …  5  4  4  2  6  1  1  5  6  6  3  2\n",
       " 2  5  1  3  3  2  2  2  3  3  3  2  4     5  5  2  6  2  2  1  2  3  4  2  1\n",
       " 3  4  5  5  1  5  4  2  3  2  5  5  2     1  4  5  3  3  1  1  4  1  2  6  4\n",
       " 2  5  5  2  4  3  4  5  5  1  2  3  4     1  3  1  2  6  5  2  1  3  5  3  3\n",
       " 2  4  3  6  4  4  4  6  4  4  3  5  2     4  6  6  3  2  6  2  6  3  2  2  3\n",
       " 3  2  3  2  1  3  1  4  1  1  6  5  2  …  2  1  3  2  5  2  1  6  1  4  3  6\n",
       " 4  1  5  4  4  5  6  4  3  2  5  3  4     4  5  2  5  6  6  6  4  3  3  3  2\n",
       " 1  1  5  1  3  6  3  1  3  6  6  1  4     1  3  4  1  3  3  1  3  6  3  2  3\n",
       " 3  3  4  4  1  5  6  2  1  2  2  6  3     1  3  5  6  2  2  6  4  5  3  3  5\n",
       " 2  3  3  2  4  1  4  3  5  4  2  2  2     6  6  1  3  1  2  3  4  6  3  5  4"
      ]
     },
     "execution_count": 6,
     "metadata": {},
     "output_type": "execute_result"
    }
   ],
   "source": [
    "sample(1:6, Weights(ones(6)), (100,100) ) # throw a dice 10000 times"
   ]
  },
  {
   "cell_type": "code",
   "execution_count": 7,
   "metadata": {},
   "outputs": [
    {
     "data": {
      "text/plain": [
       "100-element Array{Int64,1}:\n",
       " 60\n",
       " 70\n",
       " 30\n",
       " 30\n",
       " 40\n",
       " 40\n",
       " 20\n",
       " 20\n",
       " 40\n",
       " 80\n",
       " 50\n",
       " 50\n",
       " 40\n",
       "  ⋮\n",
       " 50\n",
       " 50\n",
       " 50\n",
       " 20\n",
       " 50\n",
       " 40\n",
       " 80\n",
       " 40\n",
       " 60\n",
       " 20\n",
       " 50\n",
       " 60"
      ]
     },
     "execution_count": 7,
     "metadata": {},
     "output_type": "execute_result"
    }
   ],
   "source": [
    "using Random\n",
    "Random.seed!(0)\n",
    "\n",
    "sample(time_bob[:,1], Weights(time_bob[:,2]),100)\n"
   ]
  },
  {
   "cell_type": "code",
   "execution_count": 8,
   "metadata": {},
   "outputs": [],
   "source": [
    "using Parameters, DataStructures"
   ]
  },
  {
   "cell_type": "code",
   "execution_count": 9,
   "metadata": {},
   "outputs": [],
   "source": [
    "#] add Parameters DataStructures"
   ]
  },
  {
   "cell_type": "code",
   "execution_count": 10,
   "metadata": {},
   "outputs": [
    {
     "data": {
      "text/plain": [
       "PriorityQueue{String,Tuple{Int64,Int64},Base.Order.ForwardOrdering} with 4 entries:\n",
       "  \"event2\" => (50, 20)\n",
       "  \"event1\" => (100, 10)\n",
       "  \"event4\" => (200, 4)\n",
       "  \"event3\" => (200, 5)"
      ]
     },
     "metadata": {},
     "output_type": "display_data"
    },
    {
     "data": {
      "text/plain": [
       "\"event2\" => (50, 20)"
      ]
     },
     "metadata": {},
     "output_type": "display_data"
    },
    {
     "data": {
      "text/plain": [
       "\"event1\" => (100, 10)"
      ]
     },
     "metadata": {},
     "output_type": "display_data"
    },
    {
     "data": {
      "text/plain": [
       "\"event4\" => (200, 4)"
      ]
     },
     "metadata": {},
     "output_type": "display_data"
    },
    {
     "data": {
      "text/plain": [
       "\"event3\" => (200, 5)"
      ]
     },
     "metadata": {},
     "output_type": "display_data"
    },
    {
     "data": {
      "text/plain": [
       "PriorityQueue{String,Tuple{Int64,Int64},Base.Order.ForwardOrdering} with 0 entries"
      ]
     },
     "metadata": {},
     "output_type": "display_data"
    }
   ],
   "source": [
    "using DataStructures\n",
    "\n",
    "q = PriorityQueue{String, Tuple{Int,Int}}()\n",
    "enqueue!(q, \"event1\", (100,10))\n",
    "enqueue!(q, \"event2\", (50,20))\n",
    "enqueue!(q, \"event3\", (200,5))\n",
    "enqueue!(q, \"event4\", (200,4))\n",
    "\n",
    "display(q)\n",
    "display(dequeue_pair!(q))\n",
    "display(dequeue_pair!(q))\n",
    "display(dequeue_pair!(q))\n",
    "display(dequeue_pair!(q))\n",
    "\n",
    "display(q)"
   ]
  },
  {
   "cell_type": "code",
   "execution_count": 11,
   "metadata": {},
   "outputs": [],
   "source": [
    "struct Event\n",
    "    description::String\n",
    "    what::Symbol\n",
    "end"
   ]
  },
  {
   "cell_type": "code",
   "execution_count": 12,
   "metadata": {},
   "outputs": [
    {
     "data": {
      "text/plain": [
       "Point2\n",
       "  x: Int64 7\n",
       "  y: Int64 4\n",
       "  z: Int64 0\n"
      ]
     },
     "execution_count": 12,
     "metadata": {},
     "output_type": "execute_result"
    }
   ],
   "source": [
    "using Parameters\n",
    "@with_kw mutable struct Point2\n",
    "    x::Int\n",
    "    y::Int\n",
    "    z::Int = 0\n",
    "end\n",
    "\n",
    "p = Point2(x=3,y=4)\n",
    "p\n",
    "\n",
    "p.x = 7\n",
    "\n",
    "p"
   ]
  },
  {
   "cell_type": "code",
   "execution_count": 13,
   "metadata": {},
   "outputs": [
    {
     "data": {
      "text/plain": [
       "ProductionLine"
      ]
     },
     "execution_count": 13,
     "metadata": {},
     "output_type": "execute_result"
    }
   ],
   "source": [
    "using Parameters\n",
    "@with_kw mutable struct ProductionLine\n",
    "    tick::Int  = 0       # simulation step\n",
    "    clock::Int = 0       # time in simulated world in seconda\n",
    "    alice_has_box_for_bob::Bool = false\n",
    "    bob_glues_box::Bool = false\n",
    "    completed_boxes::Int = 0 # completed boxes\n",
    "    time_alice::Matrix{Int}\n",
    "    time_bob::Matrix{Int}\n",
    "    q::PriorityQueue{Event, Tuple{Int,Int}}=PriorityQueue{Event, Tuple{Int,Int}}()\n",
    "end    "
   ]
  },
  {
   "cell_type": "code",
   "execution_count": 14,
   "metadata": {},
   "outputs": [
    {
     "data": {
      "text/plain": [
       "10"
      ]
     },
     "execution_count": 14,
     "metadata": {},
     "output_type": "execute_result"
    }
   ],
   "source": [
    "a,b= (4,6)\n",
    "a+b"
   ]
  },
  {
   "cell_type": "code",
   "execution_count": 15,
   "metadata": {},
   "outputs": [
    {
     "data": {
      "text/plain": [
       "step (generic function with 1 method)"
      ]
     },
     "execution_count": 15,
     "metadata": {},
     "output_type": "execute_result"
    }
   ],
   "source": [
    "function step(sim::ProductionLine; log = true)\n",
    "    length(sim.q) == 0 && enqueue!(sim.q, Event(\"Alice takes the box\",:alice_take), (sim.clock,0)) \n",
    "    message_add = \"\"\n",
    "    event, time_priority = dequeue_pair!(sim.q)    \n",
    "    sim.clock = time_priority[1]\n",
    "    if event.what == :alice_take\n",
    "        enqueue!(sim.q, Event(\"Alice completed box\",:alice_assemble), \n",
    "            (sim.clock +sample(sim.time_alice[:,1], Weights(sim.time_alice[:,2])), 1) ) \n",
    "    elseif event.what == :alice_assemble\n",
    "        sim.alice_has_box_for_bob = true\n",
    "        enqueue!(sim.q, Event(\"Bob checks if he take the box\",:bob_check), (sim.clock,2))\n",
    "    elseif event.what == :bob_check\n",
    "        if !sim.bob_glues_box && sim.alice_has_box_for_bob\n",
    "            sim.bob_glues_box = true\n",
    "            sim.alice_has_box_for_bob = false\n",
    "            message_add = \" and he took it from Alice!\"\n",
    "            enqueue!(sim.q, Event(\"Alice takes the box\",:alice_take), (sim.clock,3)) \n",
    "            enqueue!(sim.q, Event(\"Bob glued the box\",:bob_glue), \n",
    "                (sim.clock +sample(sim.time_bob[:,1], Weights(sim.time_bob[:,2])), 4) )             \n",
    "        else \n",
    "            if sim.bob_glues_box \n",
    "                message_add *=  \"[he is still working on the previous one] \"\n",
    "            end\n",
    "            if ! sim.alice_has_box_for_bob \n",
    "                message_add *=  \"[Alice is not ready yet ] \"\n",
    "            end\n",
    "        end\n",
    "    elseif event.what == :bob_glue\n",
    "        sim.completed_boxes += 1\n",
    "        sim.bob_glues_box = false\n",
    "        enqueue!(sim.q, Event(\"Bob checks if he can take the box\",:bob_check), (sim.clock, 5))\n",
    "    else\n",
    "        println(\"Uknown event? $(event.what)\")\n",
    "    end   \n",
    "    sim.tick += 1\n",
    "    log && println(\"tick=$(sim.tick): $(event.description) $message_add  clock=$(sim.clock), completed=$(sim.completed_boxes)\")\n",
    "    \n",
    "end"
   ]
  },
  {
   "cell_type": "code",
   "execution_count": 16,
   "metadata": {},
   "outputs": [
    {
     "data": {
      "text/plain": [
       "ProductionLine\n",
       "  tick: Int64 2625\n",
       "  clock: Int64 28840\n",
       "  alice_has_box_for_bob: Bool false\n",
       "  bob_glues_box: Bool false\n",
       "  completed_boxes: Int64 525\n",
       "  time_alice: Array{Int64}((8, 2)) [10 4; 20 5; … ; 70 6; 80 2]\n",
       "  time_bob: Array{Int64}((8, 2)) [10 4; 20 6; … ; 70 5; 80 4]\n",
       "  q: PriorityQueue{Event,Tuple{Int64,Int64},Base.Order.ForwardOrdering}\n"
      ]
     },
     "metadata": {},
     "output_type": "display_data"
    }
   ],
   "source": [
    "sim = ProductionLine(time_alice=time_alice, time_bob=time_bob)\n",
    "while sim.clock <= 3600*8\n",
    "    step(sim; log=false)\n",
    "    #flush(stdout)\n",
    "    #display(sim.q)\n",
    "    #flush(stdout)\n",
    "end\n",
    "display(sim)"
   ]
  },
  {
   "cell_type": "code",
   "execution_count": 17,
   "metadata": {},
   "outputs": [
    {
     "data": {
      "text/plain": [
       "ProductionLineStorage"
      ]
     },
     "execution_count": 17,
     "metadata": {},
     "output_type": "execute_result"
    }
   ],
   "source": [
    "@with_kw mutable struct ProductionLineStorage\n",
    "    tick::Int  = 0       # simulation step\n",
    "    clock::Int = 0       # time in simulated world in seconda\n",
    "    storage::Int = 0\n",
    "    alice_has_box_for_bob::Bool = false\n",
    "    bob_glues_box::Bool = false\n",
    "    completed_boxes::Int = 0 # completed boxes\n",
    "    time_alice::Matrix{Int}\n",
    "    time_bob::Matrix{Int}\n",
    "    q::PriorityQueue{Event, Tuple{Int,Int}}=PriorityQueue{Event, Tuple{Int,Int}}()\n",
    "end  "
   ]
  },
  {
   "cell_type": "code",
   "execution_count": 18,
   "metadata": {},
   "outputs": [
    {
     "data": {
      "text/plain": [
       "step (generic function with 2 methods)"
      ]
     },
     "execution_count": 18,
     "metadata": {},
     "output_type": "execute_result"
    }
   ],
   "source": [
    "function step(sim::ProductionLineStorage; log = true)\n",
    "    length(sim.q) == 0 && enqueue!(sim.q, Event(\"Alice takes the box\",:alice_take), (sim.clock,0)) \n",
    "    message_add = \"\"\n",
    "    event, time_priority = dequeue_pair!(sim.q)    \n",
    "    sim.clock = time_priority[1]\n",
    "    if event.what == :alice_take\n",
    "        enqueue!(sim.q, Event(\"Alice completed box\",:alice_assemble), \n",
    "            (sim.clock +sample(sim.time_alice[:,1], Weights(sim.time_alice[:,2])), 1) ) \n",
    "        \n",
    "    elseif event.what == :alice_assemble\n",
    "        sim.storage += 1\n",
    "        enqueue!(sim.q, Event(\"Bob checks if he take the box\",:bob_check), (sim.clock,2))\n",
    "        enqueue!(sim.q, Event(\"Alice takes the box\",:alice_take), (sim.clock,3))        \n",
    "    elseif event.what == :bob_check\n",
    "        if !sim.bob_glues_box && sim.storage > 0\n",
    "            sim.bob_glues_box = true\n",
    "            sim.storage -= 1\n",
    "            message_add = \" and he took it from Storage!\"             \n",
    "            enqueue!(sim.q, Event(\"Bob glued the box\",:bob_glue), \n",
    "                (sim.clock +sample(sim.time_bob[:,1], Weights(sim.time_bob[:,2])), 4) )             \n",
    "        else \n",
    "            if sim.bob_glues_box \n",
    "                message_add *=  \"[he is still working on the previous one] \"\n",
    "            end\n",
    "            if sim.storage == 0\n",
    "                message_add *=  \"[No boxes in storage ] \"\n",
    "            end\n",
    "        end\n",
    "    elseif event.what == :bob_glue\n",
    "        sim.completed_boxes += 1\n",
    "        sim.bob_glues_box = false\n",
    "        enqueue!(sim.q, Event(\"Bob checks if he can take the box\",:bob_check), (sim.clock, 5))\n",
    "    else\n",
    "        println(\"Uknown event? $(event.what)\")\n",
    "    end   \n",
    "    sim.tick += 1\n",
    "    log && println(\"tick=$(sim.tick): $(event.description) $message_add  clock=$(sim.clock), S=$(sim.storage) completed=$(sim.completed_boxes)\")\n",
    "    \n",
    "end"
   ]
  },
  {
   "cell_type": "code",
   "execution_count": 19,
   "metadata": {},
   "outputs": [
    {
     "data": {
      "text/html": [
       "# 2 methods for generic function <b>step</b>:<ul><li> step(sim::<b>ProductionLineStorage</b>; <i>log</i>) in Main at In[18]:2</li> <li> step(sim::<b>ProductionLine</b>; <i>log</i>) in Main at In[15]:2</li> </ul>"
      ],
      "text/plain": [
       "# 2 methods for generic function \"step\":\n",
       "[1] step(sim::ProductionLineStorage; log) in Main at In[18]:2\n",
       "[2] step(sim::ProductionLine; log) in Main at In[15]:2"
      ]
     },
     "execution_count": 19,
     "metadata": {},
     "output_type": "execute_result"
    }
   ],
   "source": [
    "methods(step)"
   ]
  },
  {
   "cell_type": "code",
   "execution_count": 20,
   "metadata": {},
   "outputs": [
    {
     "data": {
      "text/plain": [
       "ProductionLineStorage\n",
       "  tick: Int64 3167\n",
       "  clock: Int64 28840\n",
       "  storage: Int64 15\n",
       "  alice_has_box_for_bob: Bool false\n",
       "  bob_glues_box: Bool true\n",
       "  completed_boxes: Int64 624\n",
       "  time_alice: Array{Int64}((8, 2)) [10 4; 20 5; … ; 70 6; 80 2]\n",
       "  time_bob: Array{Int64}((8, 2)) [10 4; 20 6; … ; 70 5; 80 4]\n",
       "  q: PriorityQueue{Event,Tuple{Int64,Int64},Base.Order.ForwardOrdering}\n"
      ]
     },
     "metadata": {},
     "output_type": "display_data"
    }
   ],
   "source": [
    "sim = ProductionLineStorage(time_alice=time_alice, time_bob=time_bob)\n",
    "s_history = Int[]\n",
    "while sim.clock <= 3600*8\n",
    "    step(sim; log=false)\n",
    "    push!(s_history,sim.storage)\n",
    "    #flush(stdout)\n",
    "    #display(sim.q)\n",
    "    #flush(stdout)\n",
    "end\n",
    "display(sim)\n",
    "\n"
   ]
  },
  {
   "cell_type": "markdown",
   "metadata": {},
   "source": [
    "## Homework:\n",
    "\n",
    "Make plots (for 1 simulation):\n",
    "- utilization (4 bars)\n",
    "    of Alice time with and witout Storage (what is percentage of time that Alice is waitng for Bob)\n",
    "    of Bob's time with and witout Storage (what is percentage of time that Bob is waitng for Alice)\n",
    "- storage usage over time \n",
    "\n",
    "Use either Python or Julia\n",
    "\n",
    "Provide code + 2 pictures (png format)"
   ]
  }
 ],
 "metadata": {
  "kernelspec": {
   "display_name": "Julia 1.3.1",
   "language": "julia",
   "name": "julia-1.3"
  },
  "language_info": {
   "file_extension": ".jl",
   "mimetype": "application/julia",
   "name": "julia",
   "version": "1.3.1"
  }
 },
 "nbformat": 4,
 "nbformat_minor": 4
}
