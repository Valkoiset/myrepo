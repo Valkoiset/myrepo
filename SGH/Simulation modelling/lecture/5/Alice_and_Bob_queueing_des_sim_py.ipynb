{
 "cells": [
  {
   "cell_type": "code",
   "execution_count": 1,
   "metadata": {},
   "outputs": [
    {
     "name": "stdout",
     "output_type": "stream",
     "text": [
      "[[10  4]\n",
      " [20  6]\n",
      " [30 10]\n",
      " [40 20]\n",
      " [50 40]\n",
      " [60 11]\n",
      " [70  5]\n",
      " [80  4]]\n",
      "(8, 2)\n"
     ]
    }
   ],
   "source": [
    "import numpy as np\n",
    "\n",
    "time_bob = np.array([ #[time, empirica; number of observations]\n",
    "  [10 , 4],\n",
    "  [20 , 6],\n",
    "  [30 , 10],\n",
    "  [40 , 20],\n",
    "  [50 , 40],\n",
    "  [60 , 11],\n",
    "  [70 , 5],\n",
    "  [80 , 4]\n",
    "]) \n",
    "\n",
    "time_alice = np.array([ #[time, empirica; number of observations]\n",
    "  [10 , 4],\n",
    "  [20 , 5],\n",
    "  [30 , 6],\n",
    "  [40 , 7],\n",
    "  [50 , 10],\n",
    "  [60 , 8],\n",
    "  [70 , 6],\n",
    "  [80 , 2]       \n",
    "])\n",
    "\n",
    "print(time_bob)\n",
    "print(time_bob.shape)"
   ]
  },
  {
   "cell_type": "code",
   "execution_count": 2,
   "metadata": {},
   "outputs": [
    {
     "data": {
      "text/plain": [
       "array([50, 60, 50, 50, 40, 50, 40, 70, 80, 40, 60, 50, 50, 70, 10, 20, 10,\n",
       "       60, 60, 70, 80, 60, 50, 60, 20, 50, 20, 70, 50, 40, 30, 60, 40, 50,\n",
       "       10, 50, 50, 50, 70, 60, 40, 40, 60, 10, 60, 60, 30, 20, 40, 40, 50,\n",
       "       40, 80, 20, 30, 20, 50, 30, 50, 30, 20, 20, 50, 20, 30, 40, 60, 20,\n",
       "       70, 20, 80, 50, 80, 50, 60, 10, 30, 20, 30, 20, 40, 40, 10, 60, 50,\n",
       "       30, 50, 20, 50, 70, 40, 60, 20, 60, 30, 20, 50, 10, 60, 10])"
      ]
     },
     "execution_count": 2,
     "metadata": {},
     "output_type": "execute_result"
    }
   ],
   "source": [
    "import numpy.random as rd\n",
    "rd.seed(0)\n",
    "\n",
    "rd.choice(time_alice[:,0],100,p=time_alice[:,1]/np.sum(time_alice[:,1]) )"
   ]
  },
  {
   "cell_type": "code",
   "execution_count": 6,
   "metadata": {},
   "outputs": [],
   "source": [
    "def next_event(*args):\n",
    "    vals = [v for v in args if v is not None]\n",
    "    if len(vals)==0:\n",
    "        return None\n",
    "    return min(vals)\n",
    "\n",
    "assert next_event(1,2,3) == 1\n",
    "assert next_event(4,2,None) == 2\n",
    "assert next_event(None,None) == None"
   ]
  },
  {
   "cell_type": "code",
   "execution_count": 7,
   "metadata": {},
   "outputs": [],
   "source": [
    "class ProductionLine:\n",
    "    alice_action_end = 0  # time measured in seconds\n",
    "    bob_action_end = None   \n",
    "    alice_has_box = False #Alice holds or prepares box for Bob\n",
    "    bob_has_box = False   #Bob works with box\n",
    "\n",
    "    #storage = 0 # we can model boxes going to storage\n",
    "\n",
    "    tick  = 0       # simulation step\n",
    "    clock = 0       # time in simulated world in seconda\n",
    "    completed_boxes = 0 # completed boxes\n",
    "\n",
    "    def __init__(self,time_bob,time_alice): #konstruktor\n",
    "        self.time_alice = time_alice\n",
    "        self.time_bob = time_bob        \n",
    "        self.p_time_alice = time_alice[:,1]/np.sum(time_alice[:,1])\n",
    "        self.p_time_bob = time_bob[:,1]/np.sum(time_bob[:,1]) \n",
    "    \n",
    "    def step(self):\n",
    "        #Selecting the next event to happen\n",
    "        # Calculating the time of the next event to happen\n",
    "        # Check if this event triggers another conditiona; action such as leaving the queue\n",
    "        \n",
    "        #Alice & Bob\n",
    "        #Events: Alice completed job, Bob completed job\n",
    "        #Conditional events: \n",
    "        # - Alice starts job (needs to have free hands)\n",
    "        # - Bob starts job (needs to have free hands and a box must be available)\n",
    "        \n",
    "        self.clock = min_vals(self.alice_action_end,self.bob_action_end)\n",
    "        \n",
    "        if self.alice_has_box and self.bob_action_end is not None and self.bob_action_end > self.alice_action_end:\n",
    "            print(self.clock, \"Alice needs to wait for Bob \")\n",
    "            self.clock = self.bob_action_end \n",
    "        \n",
    "        if not self.alice_has_box :\n",
    "            self.alice_has_box = True\n",
    "            self.alice_action_end = self.clock + \\\n",
    "                    rd.choice(self.time_alice[:,0],p=self.p_time_alice)\n",
    "            print(self.clock, \"Alice starts doing new box for the time \", self.alice_action_end)\n",
    "\n",
    "\n",
    "        if self.bob_has_box and self.bob_action_end <= self.clock:\n",
    "            print(self.clock, \"Bob finishes the box\")\n",
    "            self.completed_boxes += 1\n",
    "            self.bob_action_end = None\n",
    "            self.bob_has_box = False\n",
    "\n",
    "            \n",
    "        if self.alice_has_box and (self.alice_action_end is None or self.alice_action_end <= self.clock):\n",
    "            print(self.clock, \"Alice is ready to pass box to Bob \")\n",
    "            if not self.bob_has_box:            \n",
    "                self.bob_action_end = self.clock + \\\n",
    "                   rd.choice(self.time_bob[:,0],p=self.p_time_bob)\n",
    "                print(self.clock, \"Bob takes the box from Alice and will be ready at \",self.bob_action_end )\n",
    "                self.bob_has_box = True\n",
    "                self.alice_has_box = False\n",
    "          \n",
    "        self.tick = self.tick + 1 #increase step size\n",
    "        \n",
    "            \n",
    "    def status(self):\n",
    "        print(\"### tick=\",self.tick,\"clock=\",self.clock,\"Alice has box\", self.alice_has_box,\"Alice end=\",\n",
    "              self.alice_action_end,\n",
    "              \"Bob end=\",self.bob_action_end, \"Bob has box=\",self.bob_has_box,\n",
    "              \"completed_boxes=\",self.completed_boxes )\n",
    "        #\"storage=\",self.storage \n",
    "        "
   ]
  },
  {
   "cell_type": "code",
   "execution_count": 8,
   "metadata": {},
   "outputs": [
    {
     "ename": "NameError",
     "evalue": "name 'min_vals' is not defined",
     "output_type": "error",
     "traceback": [
      "\u001b[0;31m---------------------------------------------------------------------------\u001b[0m",
      "\u001b[0;31mNameError\u001b[0m                                 Traceback (most recent call last)",
      "\u001b[0;32m<ipython-input-8-6332f0bc0a1c>\u001b[0m in \u001b[0;36m<module>\u001b[0;34m\u001b[0m\n\u001b[1;32m      3\u001b[0m \u001b[0mm\u001b[0m \u001b[0;34m=\u001b[0m \u001b[0mProductionLine\u001b[0m\u001b[0;34m(\u001b[0m\u001b[0mtime_bob\u001b[0m\u001b[0;34m,\u001b[0m \u001b[0mtime_alice\u001b[0m\u001b[0;34m)\u001b[0m  \u001b[0;31m# Creating the object with ___init___ constructor\u001b[0m\u001b[0;34m\u001b[0m\u001b[0;34m\u001b[0m\u001b[0m\n\u001b[1;32m      4\u001b[0m \u001b[0;32mfor\u001b[0m \u001b[0mstep\u001b[0m \u001b[0;32min\u001b[0m \u001b[0mrange\u001b[0m\u001b[0;34m(\u001b[0m\u001b[0;36m40\u001b[0m\u001b[0;34m)\u001b[0m\u001b[0;34m:\u001b[0m\u001b[0;34m\u001b[0m\u001b[0;34m\u001b[0m\u001b[0m\n\u001b[0;32m----> 5\u001b[0;31m     \u001b[0mm\u001b[0m\u001b[0;34m.\u001b[0m\u001b[0mstep\u001b[0m\u001b[0;34m(\u001b[0m\u001b[0;34m)\u001b[0m\u001b[0;34m\u001b[0m\u001b[0;34m\u001b[0m\u001b[0m\n\u001b[0m\u001b[1;32m      6\u001b[0m     \u001b[0mm\u001b[0m\u001b[0;34m.\u001b[0m\u001b[0mstatus\u001b[0m\u001b[0;34m(\u001b[0m\u001b[0;34m)\u001b[0m\u001b[0;34m\u001b[0m\u001b[0;34m\u001b[0m\u001b[0m\n",
      "\u001b[0;32m<ipython-input-7-e6cb5c1ebd9c>\u001b[0m in \u001b[0;36mstep\u001b[0;34m(self)\u001b[0m\n\u001b[1;32m     28\u001b[0m         \u001b[0;31m# - Bob starts job (needs to have free hands and a box must be available)\u001b[0m\u001b[0;34m\u001b[0m\u001b[0;34m\u001b[0m\u001b[0;34m\u001b[0m\u001b[0m\n\u001b[1;32m     29\u001b[0m \u001b[0;34m\u001b[0m\u001b[0m\n\u001b[0;32m---> 30\u001b[0;31m         \u001b[0mself\u001b[0m\u001b[0;34m.\u001b[0m\u001b[0mclock\u001b[0m \u001b[0;34m=\u001b[0m \u001b[0mmin_vals\u001b[0m\u001b[0;34m(\u001b[0m\u001b[0mself\u001b[0m\u001b[0;34m.\u001b[0m\u001b[0malice_action_end\u001b[0m\u001b[0;34m,\u001b[0m\u001b[0mself\u001b[0m\u001b[0;34m.\u001b[0m\u001b[0mbob_action_end\u001b[0m\u001b[0;34m)\u001b[0m\u001b[0;34m\u001b[0m\u001b[0;34m\u001b[0m\u001b[0m\n\u001b[0m\u001b[1;32m     31\u001b[0m \u001b[0;34m\u001b[0m\u001b[0m\n\u001b[1;32m     32\u001b[0m         \u001b[0;32mif\u001b[0m \u001b[0mself\u001b[0m\u001b[0;34m.\u001b[0m\u001b[0malice_has_box\u001b[0m \u001b[0;32mand\u001b[0m \u001b[0mself\u001b[0m\u001b[0;34m.\u001b[0m\u001b[0mbob_action_end\u001b[0m \u001b[0;32mis\u001b[0m \u001b[0;32mnot\u001b[0m \u001b[0;32mNone\u001b[0m \u001b[0;32mand\u001b[0m \u001b[0mself\u001b[0m\u001b[0;34m.\u001b[0m\u001b[0mbob_action_end\u001b[0m \u001b[0;34m>\u001b[0m \u001b[0mself\u001b[0m\u001b[0;34m.\u001b[0m\u001b[0malice_action_end\u001b[0m\u001b[0;34m:\u001b[0m\u001b[0;34m\u001b[0m\u001b[0;34m\u001b[0m\u001b[0m\n",
      "\u001b[0;31mNameError\u001b[0m: name 'min_vals' is not defined"
     ]
    }
   ],
   "source": [
    "rd.seed(10)\n",
    "# Starting the model\n",
    "m = ProductionLine(time_bob, time_alice)  # Creating the object with ___init___ constructor\n",
    "for step in range(40):  \n",
    "    m.step()\n",
    "    m.status()"
   ]
  },
  {
   "cell_type": "code",
   "execution_count": null,
   "metadata": {},
   "outputs": [],
   "source": []
  }
 ],
 "metadata": {
  "kernelspec": {
   "display_name": "Python 3",
   "language": "python",
   "name": "python3"
  },
  "language_info": {
   "codemirror_mode": {
    "name": "ipython",
    "version": 3
   },
   "file_extension": ".py",
   "mimetype": "text/x-python",
   "name": "python",
   "nbconvert_exporter": "python",
   "pygments_lexer": "ipython3",
   "version": "3.6.8"
  }
 },
 "nbformat": 4,
 "nbformat_minor": 4
}
