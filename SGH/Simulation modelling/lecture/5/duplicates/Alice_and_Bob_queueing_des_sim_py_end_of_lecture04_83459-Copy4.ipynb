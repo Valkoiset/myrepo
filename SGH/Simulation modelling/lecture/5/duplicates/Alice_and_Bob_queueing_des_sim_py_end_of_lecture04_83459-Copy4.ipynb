{
 "cells": [
  {
   "cell_type": "markdown",
   "metadata": {},
   "source": [
    "# Note:\n",
    "### - New or modified parts of code are marked with \"#\""
   ]
  },
  {
   "cell_type": "code",
   "execution_count": 1,
   "metadata": {},
   "outputs": [
    {
     "name": "stdout",
     "output_type": "stream",
     "text": [
      "[[10  4]\n",
      " [20  6]\n",
      " [30 10]\n",
      " [40 20]\n",
      " [50 40]\n",
      " [60 11]\n",
      " [70  5]\n",
      " [80  4]]\n",
      "(8, 2)\n"
     ]
    }
   ],
   "source": [
    "import numpy as np\n",
    "import numpy.random as rd\n",
    "\n",
    "time_bob = np.array([ #[time, empirical; number of observations]\n",
    "  [10 , 4],\n",
    "  [20 , 6],\n",
    "  [30 , 10],\n",
    "  [40 , 20],\n",
    "  [50 , 40],\n",
    "  [60 , 11],\n",
    "  [70 , 5],\n",
    "  [80 , 4]\n",
    "]) \n",
    "\n",
    "time_alice = np.array([ #[time, empirical; number of observations]\n",
    "  [10 , 4],\n",
    "  [20 , 5],\n",
    "  [30 , 6],\n",
    "  [40 , 7],\n",
    "  [50 , 10],\n",
    "  [60 , 8],\n",
    "  [70 , 6],\n",
    "  [80 , 2]       \n",
    "])\n",
    "\n",
    "print(time_bob)\n",
    "print(time_bob.shape)"
   ]
  },
  {
   "cell_type": "code",
   "execution_count": 48,
   "metadata": {},
   "outputs": [],
   "source": [
    "def min_vals(*args):\n",
    "    vals = [v for v in args if v is not None]\n",
    "    if len(vals)==0:\n",
    "        return None\n",
    "    return min(vals)\n",
    "\n",
    "assert min_vals(1,2,3) == 1\n",
    "assert min_vals(4,2,None) == 2\n",
    "assert min_vals(None,None,None) == None"
   ]
  },
  {
   "cell_type": "code",
   "execution_count": 118,
   "metadata": {},
   "outputs": [],
   "source": [
    "class ProductionLine:\n",
    "    alice_action_end = 0  # time measured in seconds\n",
    "    bob_action_end = None   \n",
    "    alice_has_box = False #Alice holds or prepares box for Bob\n",
    "    bob_has_box = False   #Bob works with box\n",
    "    \n",
    "    storage_active = True ## to control scenario. change to False to control it\n",
    "    storage_counter = 0 ## number of boxes which are currently in the storage ##\n",
    "    there_is_a_box_in_storage = storage_counter > 0 ## False by default at the beginning of Simulation\n",
    "    \n",
    "    tick  = 0       # simulation step\n",
    "    clock = 0       # time in simulated world in seconds\n",
    "    clock_points = [] ##\n",
    "    completed_boxes = 0 # completed boxes\n",
    "    \n",
    "#  ## {alice_waiting_time : bob_st_cumulative_waiting_time}\n",
    "    alice_waiting_time = 0\n",
    "    alice_cumulative_waiting_time = 0\n",
    "    bob_waiting_time = 0\n",
    "    bob_cumulative_waiting_time = 0\n",
    "    \n",
    "    bob_st_waiting_time = 0\n",
    "    bob_st_cumulative_waiting_time = 0\n",
    "\n",
    "    def __init__(self,time_bob,time_alice): #constructor\n",
    "        self.time_alice = time_alice\n",
    "        self.time_bob = time_bob        \n",
    "        self.p_time_alice = time_alice[:,1]/np.sum(time_alice[:,1])\n",
    "        self.p_time_bob = time_bob[:,1]/np.sum(time_bob[:,1]) \n",
    "    \n",
    "    def step(self):\n",
    "        #Selecting the next event to happen\n",
    "        # Calculating the time of the next event to happen\n",
    "        # Check if this event triggers another conditional action such as leaving the queue\n",
    "        \n",
    "        #Alice & Bob\n",
    "        #Unconditional events: Alice completed job, Bob completed job\n",
    "        #Conditional events: \n",
    "        # - Alice starts job (needs to have free hands)\n",
    "        # - Bob starts job (needs to have free hands and a box must be available)\n",
    "        \n",
    "        #unconditional event\n",
    "        self.clock = min_vals(self.alice_action_end,self.bob_action_end)\n",
    "        \n",
    "        # 1st scenario: Alice has a box the box but she needs to wait for a Bob\n",
    "        if self.alice_has_box and self.bob_action_end is not None and self.bob_action_end > self.alice_action_end:\n",
    "           ## Alice waiting for Bob condition (for no storage)\n",
    "            if not self.storage_active:\n",
    "                self.alice_waiting_time = (self.bob_action_end - self.alice_action_end) ## Alice waiting time on step\n",
    "                self.alice_cumulative_waiting_time += self.alice_waiting_time\n",
    "                print(f\"Alice needs to wait for Bob {self.alice_waiting_time} seconds. Her cumulative waiting time now = {self.alice_cumulative_waiting_time}\")\n",
    "                self.clock = self.bob_action_end \n",
    "           ## if storage is active --> put finished box in a storage and start a new one:\n",
    "            self.storage_counter += 1 ## (can be written without else here)\n",
    "            self.there_is_a_box_in_storage = True\n",
    "            self.clock = self.bob_action_end ## ? \n",
    "        \n",
    "        # 2nd scenario: Alice is free and not doing anything --> then she takes a box\n",
    "        if not self.alice_has_box:\n",
    "            self.alice_has_box = True\n",
    "            self.alice_action_end = self.clock + \\\n",
    "                    rd.choice(self.time_alice[:,0],p=self.p_time_alice)\n",
    "            print(self.clock, \"Alice starts doing new box for the time \", self.alice_action_end)\n",
    "\n",
    "        # 3nd scenario: if Bob has box in his hands and he has just finished manufacturing the box\n",
    "        if self.bob_has_box and self.bob_action_end <= self.clock:\n",
    "            print(self.clock, \"Bob finishes the box\")\n",
    "            self.completed_boxes += 1\n",
    "            self.bob_action_end = None\n",
    "            self.bob_has_box = False\n",
    "        \n",
    "       ## 5th scnario: Bob waiting for Alice condition (5th goes right after 3rd!?)\n",
    "        ###\n",
    "        if self.bob_action_end is None and self.clock < self.alice_action_end and self.clock > 0:\n",
    "            # here should be a condition for storage?\n",
    "            self.bob_waiting_time = (self.alice_action_end - self.clock)\n",
    "            self.bob_cumulative_waiting_time += (self.alice_action_end - self.clock)\n",
    "            print(f\"Bob needs to wait for Alice {self.bob_waiting_time} seconds. His cumulative waiting time now = {self.bob_cumulative_waiting_time}\")\n",
    "            \n",
    "        # 4th scenario: if Alice has a box and Alice has finished a job --> Alice is ready to pass the box to Bob\n",
    "        if self.alice_has_box and (self.alice_action_end is None or self.alice_action_end <= self.clock):\n",
    "            print(self.clock, \"Alice is ready to pass box to Bob \")\n",
    "            if not self.bob_has_box:            \n",
    "                self.bob_action_end = self.clock + \\\n",
    "                   rd.choice(self.time_bob[:,0],p=self.p_time_bob)\n",
    "                print(self.clock, \"Bob takes the box from Alice and will be ready at \",self.bob_action_end)\n",
    "                self.bob_has_box = True\n",
    "                self.alice_has_box = False\n",
    "        \n",
    "        self.tick = self.tick + 1 #increase step size\n",
    "        self.clock_points.append(self.clock)\n",
    "        \n",
    "        # 6th scenario: for \"storage\" scenario (if )\n",
    "        # if bob_action_end > alice_action_end 2-3 times in a row --> then Bob wait for Alice \n",
    "        \n",
    "        \n",
    "            \n",
    "    def status(self):\n",
    "        print(\"### tick =\",self.tick,\"clock =\",self.clock,\"Alice has box\", self.alice_has_box,\"Alice end =\",\n",
    "              self.alice_action_end,\n",
    "              \"Bob end =\",self.bob_action_end, \"Bob has box =\",self.bob_has_box,\n",
    "              \"completed_boxes =\",self.completed_boxes)\n",
    "        #\"storage=\",self.storage \n",
    "        "
   ]
  },
  {
   "cell_type": "code",
   "execution_count": 119,
   "metadata": {},
   "outputs": [
    {
     "data": {
      "text/plain": [
       "False"
      ]
     },
     "execution_count": 119,
     "metadata": {},
     "output_type": "execute_result"
    }
   ],
   "source": [
    "storage_counter = 0\n",
    "storage_counter > 0"
   ]
  },
  {
   "cell_type": "code",
   "execution_count": 120,
   "metadata": {},
   "outputs": [
    {
     "data": {
      "text/plain": [
       "False"
      ]
     },
     "execution_count": 120,
     "metadata": {},
     "output_type": "execute_result"
    }
   ],
   "source": [
    "m.storage_active"
   ]
  },
  {
   "cell_type": "code",
   "execution_count": 121,
   "metadata": {},
   "outputs": [
    {
     "name": "stdout",
     "output_type": "stream",
     "text": [
      "0 Alice starts doing new box for the time  60\n",
      "### tick = 1 clock = 0 Alice has box True Alice end = 60 Bob end = None Bob has box = False completed_boxes = 0\n",
      "60 Alice is ready to pass box to Bob \n",
      "60 Bob takes the box from Alice and will be ready at  70\n",
      "### tick = 2 clock = 60 Alice has box False Alice end = 60 Bob end = 70 Bob has box = True completed_boxes = 0\n",
      "60 Alice starts doing new box for the time  110\n",
      "### tick = 3 clock = 60 Alice has box True Alice end = 110 Bob end = 70 Bob has box = True completed_boxes = 0\n",
      "70 Bob finishes the box\n",
      "Bob needs to wait for Alice 40 seconds. His cumulative waiting time now = 40\n",
      "### tick = 4 clock = 70 Alice has box True Alice end = 110 Bob end = None Bob has box = False completed_boxes = 1\n",
      "110 Alice is ready to pass box to Bob \n",
      "110 Bob takes the box from Alice and will be ready at  160\n",
      "### tick = 5 clock = 110 Alice has box False Alice end = 110 Bob end = 160 Bob has box = True completed_boxes = 1\n",
      "110 Alice starts doing new box for the time  160\n",
      "### tick = 6 clock = 110 Alice has box True Alice end = 160 Bob end = 160 Bob has box = True completed_boxes = 1\n",
      "160 Bob finishes the box\n",
      "160 Alice is ready to pass box to Bob \n",
      "160 Bob takes the box from Alice and will be ready at  200\n",
      "### tick = 7 clock = 160 Alice has box False Alice end = 160 Bob end = 200 Bob has box = True completed_boxes = 2\n",
      "160 Alice starts doing new box for the time  190\n",
      "### tick = 8 clock = 160 Alice has box True Alice end = 190 Bob end = 200 Bob has box = True completed_boxes = 2\n",
      "200 Bob finishes the box\n",
      "200 Alice is ready to pass box to Bob \n",
      "200 Bob takes the box from Alice and will be ready at  250\n",
      "### tick = 9 clock = 200 Alice has box False Alice end = 190 Bob end = 250 Bob has box = True completed_boxes = 3\n",
      "190 Alice starts doing new box for the time  210\n",
      "### tick = 10 clock = 190 Alice has box True Alice end = 210 Bob end = 250 Bob has box = True completed_boxes = 3\n",
      "250 Bob finishes the box\n",
      "250 Alice is ready to pass box to Bob \n",
      "250 Bob takes the box from Alice and will be ready at  270\n",
      "### tick = 11 clock = 250 Alice has box False Alice end = 210 Bob end = 270 Bob has box = True completed_boxes = 4\n",
      "210 Alice starts doing new box for the time  270\n",
      "### tick = 12 clock = 210 Alice has box True Alice end = 270 Bob end = 270 Bob has box = True completed_boxes = 4\n",
      "270 Bob finishes the box\n",
      "270 Alice is ready to pass box to Bob \n",
      "270 Bob takes the box from Alice and will be ready at  340\n",
      "### tick = 13 clock = 270 Alice has box False Alice end = 270 Bob end = 340 Bob has box = True completed_boxes = 5\n",
      "270 Alice starts doing new box for the time  280\n",
      "### tick = 14 clock = 270 Alice has box True Alice end = 280 Bob end = 340 Bob has box = True completed_boxes = 5\n",
      "340 Bob finishes the box\n",
      "340 Alice is ready to pass box to Bob \n",
      "340 Bob takes the box from Alice and will be ready at  390\n",
      "### tick = 15 clock = 340 Alice has box False Alice end = 280 Bob end = 390 Bob has box = True completed_boxes = 6\n",
      "280 Alice starts doing new box for the time  340\n",
      "### tick = 16 clock = 280 Alice has box True Alice end = 340 Bob end = 390 Bob has box = True completed_boxes = 6\n",
      "390 Bob finishes the box\n",
      "390 Alice is ready to pass box to Bob \n",
      "390 Bob takes the box from Alice and will be ready at  440\n",
      "### tick = 17 clock = 390 Alice has box False Alice end = 340 Bob end = 440 Bob has box = True completed_boxes = 7\n",
      "340 Alice starts doing new box for the time  400\n",
      "### tick = 18 clock = 340 Alice has box True Alice end = 400 Bob end = 440 Bob has box = True completed_boxes = 7\n",
      "440 Bob finishes the box\n",
      "440 Alice is ready to pass box to Bob \n",
      "440 Bob takes the box from Alice and will be ready at  480\n",
      "### tick = 19 clock = 440 Alice has box False Alice end = 400 Bob end = 480 Bob has box = True completed_boxes = 8\n",
      "400 Alice starts doing new box for the time  470\n",
      "### tick = 20 clock = 400 Alice has box True Alice end = 470 Bob end = 480 Bob has box = True completed_boxes = 8\n",
      "480 Bob finishes the box\n",
      "480 Alice is ready to pass box to Bob \n",
      "480 Bob takes the box from Alice and will be ready at  530\n",
      "### tick = 21 clock = 480 Alice has box False Alice end = 470 Bob end = 530 Bob has box = True completed_boxes = 9\n",
      "470 Alice starts doing new box for the time  520\n",
      "### tick = 22 clock = 470 Alice has box True Alice end = 520 Bob end = 530 Bob has box = True completed_boxes = 9\n",
      "530 Bob finishes the box\n",
      "530 Alice is ready to pass box to Bob \n",
      "530 Bob takes the box from Alice and will be ready at  560\n",
      "### tick = 23 clock = 530 Alice has box False Alice end = 520 Bob end = 560 Bob has box = True completed_boxes = 10\n",
      "520 Alice starts doing new box for the time  560\n",
      "### tick = 24 clock = 520 Alice has box True Alice end = 560 Bob end = 560 Bob has box = True completed_boxes = 10\n",
      "560 Bob finishes the box\n",
      "560 Alice is ready to pass box to Bob \n",
      "560 Bob takes the box from Alice and will be ready at  610\n",
      "### tick = 25 clock = 560 Alice has box False Alice end = 560 Bob end = 610 Bob has box = True completed_boxes = 11\n",
      "560 Alice starts doing new box for the time  600\n",
      "### tick = 26 clock = 560 Alice has box True Alice end = 600 Bob end = 610 Bob has box = True completed_boxes = 11\n",
      "610 Bob finishes the box\n",
      "610 Alice is ready to pass box to Bob \n",
      "610 Bob takes the box from Alice and will be ready at  660\n",
      "### tick = 27 clock = 610 Alice has box False Alice end = 600 Bob end = 660 Bob has box = True completed_boxes = 12\n",
      "600 Alice starts doing new box for the time  650\n",
      "### tick = 28 clock = 600 Alice has box True Alice end = 650 Bob end = 660 Bob has box = True completed_boxes = 12\n",
      "660 Bob finishes the box\n",
      "660 Alice is ready to pass box to Bob \n",
      "660 Bob takes the box from Alice and will be ready at  710\n",
      "### tick = 29 clock = 660 Alice has box False Alice end = 650 Bob end = 710 Bob has box = True completed_boxes = 13\n",
      "650 Alice starts doing new box for the time  700\n",
      "### tick = 30 clock = 650 Alice has box True Alice end = 700 Bob end = 710 Bob has box = True completed_boxes = 13\n",
      "710 Bob finishes the box\n",
      "710 Alice is ready to pass box to Bob \n",
      "710 Bob takes the box from Alice and will be ready at  760\n",
      "### tick = 31 clock = 710 Alice has box False Alice end = 700 Bob end = 760 Bob has box = True completed_boxes = 14\n",
      "700 Alice starts doing new box for the time  760\n",
      "### tick = 32 clock = 700 Alice has box True Alice end = 760 Bob end = 760 Bob has box = True completed_boxes = 14\n",
      "760 Bob finishes the box\n",
      "760 Alice is ready to pass box to Bob \n",
      "760 Bob takes the box from Alice and will be ready at  810\n",
      "### tick = 33 clock = 760 Alice has box False Alice end = 760 Bob end = 810 Bob has box = True completed_boxes = 15\n",
      "760 Alice starts doing new box for the time  830\n",
      "### tick = 34 clock = 760 Alice has box True Alice end = 830 Bob end = 810 Bob has box = True completed_boxes = 15\n",
      "810 Bob finishes the box\n",
      "Bob needs to wait for Alice 20 seconds. His cumulative waiting time now = 60\n",
      "### tick = 35 clock = 810 Alice has box True Alice end = 830 Bob end = None Bob has box = False completed_boxes = 16\n",
      "830 Alice is ready to pass box to Bob \n",
      "830 Bob takes the box from Alice and will be ready at  870\n",
      "### tick = 36 clock = 830 Alice has box False Alice end = 830 Bob end = 870 Bob has box = True completed_boxes = 16\n",
      "830 Alice starts doing new box for the time  850\n",
      "### tick = 37 clock = 830 Alice has box True Alice end = 850 Bob end = 870 Bob has box = True completed_boxes = 16\n",
      "870 Bob finishes the box\n",
      "870 Alice is ready to pass box to Bob \n",
      "870 Bob takes the box from Alice and will be ready at  910\n",
      "### tick = 38 clock = 870 Alice has box False Alice end = 850 Bob end = 910 Bob has box = True completed_boxes = 17\n",
      "850 Alice starts doing new box for the time  870\n",
      "### tick = 39 clock = 850 Alice has box True Alice end = 870 Bob end = 910 Bob has box = True completed_boxes = 17\n",
      "910 Bob finishes the box\n",
      "910 Alice is ready to pass box to Bob \n",
      "910 Bob takes the box from Alice and will be ready at  970\n",
      "### tick = 40 clock = 910 Alice has box False Alice end = 870 Bob end = 970 Bob has box = True completed_boxes = 18\n"
     ]
    }
   ],
   "source": [
    "rd.seed(10)\n",
    "# Starting the model\n",
    "m = ProductionLine(time_bob, time_alice)  # Creating the object with ___init___ constructor\n",
    "for step in range(40):  \n",
    "    m.step()\n",
    "    m.status()"
   ]
  },
  {
   "cell_type": "markdown",
   "metadata": {},
   "source": [
    "# Homework:\n",
    "\n",
    "Make plots (for 1 simulation):\n",
    "### 1) utilization (4 bars)\n",
    "- of Alice time with and witout Storage (what is percentage of time that Alice is waitng for Bob)\n",
    "- of Bob's time with and witout Storage (what is percentage of time that Bob is waitng for Alice)\n",
    "### 2) storage usage over time \n",
    "\n",
    "Use either Python or Julia\n",
    "\n",
    "Provide code + 2 pictures (png format)"
   ]
  },
  {
   "cell_type": "markdown",
   "metadata": {},
   "source": [
    "- if Alice has storage --> she doesn't wait. So, if there is a storage, than her utilization is 100% time\n",
    "- Bob can wait because there are no boxes in the storage\n",
    "\n",
    "utilization if the opposite of how much it's idle (100% of usage = 0% of waiting)\n",
    "\n",
    "1 of bars is easy for sure:\n",
    "- when there is a storage - Alice utilization is 100%\n",
    "\n",
    "**but the question here is rather**: how much time she is actually spending working when there is no storage?"
   ]
  },
  {
   "cell_type": "code",
   "execution_count": 122,
   "metadata": {},
   "outputs": [
    {
     "data": {
      "text/plain": [
       "True"
      ]
     },
     "execution_count": 122,
     "metadata": {},
     "output_type": "execute_result"
    }
   ],
   "source": [
    "m.storage_active"
   ]
  },
  {
   "cell_type": "code",
   "execution_count": 124,
   "metadata": {},
   "outputs": [
    {
     "name": "stdout",
     "output_type": "stream",
     "text": [
      "- clock = 910\n",
      "Alice cumulative waiting time with storage = 0\n",
      "Bob cumulative waiting time with storage = 60\n",
      "Alice working time with storage = 910\n",
      "Bob working time with storage = 850\n"
     ]
    }
   ],
   "source": [
    "##\n",
    "print(f\"- clock = {m.clock}\")\n",
    "\n",
    "if m.storage_active:\n",
    "    print(f\"Alice cumulative waiting time with storage = {m.alice_cumulative_waiting_time}\") \n",
    "    print(f\"Bob cumulative waiting time with storage = {m.bob_cumulative_waiting_time}\")\n",
    "    alice_working_time_with_storage = m.clock - m.alice_cumulative_waiting_time ## always == m.clock (m.clock - 0)\n",
    "    bob_working_time_with_storage = m.clock - m.bob_cumulative_waiting_time\n",
    "    print(f\"Alice working time with storage = {alice_working_time_with_storage}\")\n",
    "    print(f\"Bob working time with storage = {bob_working_time_with_storage}\")\n",
    "elif not m.storage_active:\n",
    "    print(f\"Alice cumulative waiting time without storage = {m.alice_cumulative_waiting_time}\")\n",
    "    print(f\"Bob cumulative waiting time without storage = {m.bob_cumulative_waiting_time}\")\n",
    "    alice_working_time_without_storage = m.clock - m.alice_cumulative_waiting_time\n",
    "    bob_working_time_without_storage = m.clock - m.bob_cumulative_waiting_time\n",
    "    print(f\"Alice working time without storage = {alice_working_time_without_storage}\")\n",
    "    print(f\"Bob working time without storage = {bob_working_time_without_storage}\")"
   ]
  },
  {
   "cell_type": "code",
   "execution_count": 116,
   "metadata": {},
   "outputs": [
    {
     "data": {
      "text/plain": [
       "True"
      ]
     },
     "execution_count": 116,
     "metadata": {},
     "output_type": "execute_result"
    }
   ],
   "source": [
    "# m.alice_cumulative_waiting_time\n",
    "not m.storage_active"
   ]
  },
  {
   "cell_type": "code",
   "execution_count": 117,
   "metadata": {},
   "outputs": [
    {
     "data": {
      "text/plain": [
       "False"
      ]
     },
     "execution_count": 117,
     "metadata": {},
     "output_type": "execute_result"
    }
   ],
   "source": []
  },
  {
   "cell_type": "code",
   "execution_count": 87,
   "metadata": {},
   "outputs": [],
   "source": [
    "utility = {\"Alice without storage\": alice_working_time_without_storage, \"Alice with storage\": alice_working_time_with_storage,\n",
    "           \"Bob without storage\": bob_working_time_without_storage ,\"Bob with storage\": bob_working_time_with_storage}"
   ]
  },
  {
   "cell_type": "code",
   "execution_count": 88,
   "metadata": {},
   "outputs": [
    {
     "data": {
      "text/plain": [
       "{'Alice without storage': 910,\n",
       " 'Alice with storage': 910,\n",
       " 'Bob without storage': 850,\n",
       " 'Bob with storage': 0}"
      ]
     },
     "execution_count": 88,
     "metadata": {},
     "output_type": "execute_result"
    }
   ],
   "source": [
    "utility"
   ]
  },
  {
   "cell_type": "code",
   "execution_count": 42,
   "metadata": {},
   "outputs": [
    {
     "data": {
      "image/png": "[encoded data removed]",
      "text/plain": [
       "<Figure size 432x288 with 1 Axes>"
      ]
     },
     "metadata": {
      "needs_background": "light"
     },
     "output_type": "display_data"
    }
   ],
   "source": [
    "import matplotlib.pyplot as plt\n",
    "\n",
    "# fig, ax = plt.subplots() \n",
    "names = list(utility.keys())\n",
    "values = list(utility.values())\n",
    "plt.bar(range(len(utility)),values,tick_label=names)\n",
    "plt.xticks(rotation=10)\n",
    "ax.set_title('Alice and Bob utilization (working time)')\n",
    "plt.ylabel('seconds')\n",
    "plt.savefig('utilization.png')\n",
    "plt.show()"
   ]
  },
  {
   "cell_type": "markdown",
   "metadata": {},
   "source": [
    "### Overall storage time is just Alice waiting time + Bob waiting time? Or not? If yes --> 310 + 50 = 360"
   ]
  },
  {
   "cell_type": "code",
   "execution_count": 43,
   "metadata": {},
   "outputs": [],
   "source": [
    "# storage = m.alice_cumulative_waiting_time + m.bob_cumulative_waiting_time\n",
    "# storage"
   ]
  },
  {
   "cell_type": "code",
   "execution_count": 44,
   "metadata": {},
   "outputs": [
    {
     "data": {
      "text/plain": [
       "array([  0,  60,  70, 110, 160, 190, 200, 210, 250, 270, 280, 340, 390,\n",
       "       400, 440, 470, 480, 520, 530, 560, 600, 610, 650, 660, 700, 710,\n",
       "       760, 810, 830, 850, 870, 910])"
      ]
     },
     "execution_count": 44,
     "metadata": {},
     "output_type": "execute_result"
    }
   ],
   "source": [
    "storage_time_points = np.unique(m.clock_points)\n",
    "storage_time_points"
   ]
  },
  {
   "cell_type": "code",
   "execution_count": 45,
   "metadata": {},
   "outputs": [
    {
     "data": {
      "text/plain": [
       "12"
      ]
     },
     "execution_count": 45,
     "metadata": {},
     "output_type": "execute_result"
    }
   ],
   "source": [
    "m.box_added_to_storage"
   ]
  },
  {
   "cell_type": "code",
   "execution_count": null,
   "metadata": {},
   "outputs": [],
   "source": []
  }
 ],
 "metadata": {
  "kernelspec": {
   "display_name": "Python 3",
   "language": "python",
   "name": "python3"
  },
  "language_info": {
   "codemirror_mode": {
    "name": "ipython",
    "version": 3
   },
   "file_extension": ".py",
   "mimetype": "text/x-python",
   "name": "python",
   "nbconvert_exporter": "python",
   "pygments_lexer": "ipython3",
   "version": "3.6.8"
  }
 },
 "nbformat": 4,
 "nbformat_minor": 4
}
