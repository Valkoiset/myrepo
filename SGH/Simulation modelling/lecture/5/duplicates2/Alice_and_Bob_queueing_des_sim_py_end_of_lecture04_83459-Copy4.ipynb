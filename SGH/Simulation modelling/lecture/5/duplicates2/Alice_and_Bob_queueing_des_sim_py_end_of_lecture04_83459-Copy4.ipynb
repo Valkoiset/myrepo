{
 "cells": [
  {
   "cell_type": "markdown",
   "metadata": {},
   "source": [
    "# Note:\n",
    "### - New or modified parts of code are marked with \"#\""
   ]
  },
  {
   "cell_type": "markdown",
   "metadata": {},
   "source": [
    "# Homework:\n",
    "\n",
    "Make plots (for 1 simulation):\n",
    "### 1) utilization (4 bars)\n",
    "- of Alice time with and witout Storage (what is percentage of time that Alice is waitng for Bob)\n",
    "- of Bob's time with and witout Storage (what is percentage of time that Bob is waitng for Alice)\n",
    "### 2) storage usage over time \n",
    "\n",
    "Use either Python or Julia\n",
    "\n",
    "Provide code + 2 pictures (png format)"
   ]
  },
  {
   "cell_type": "markdown",
   "metadata": {},
   "source": [
    "- if Alice has storage --> she doesn't wait. So, if there is a storage, than her utilization is 100% time\n",
    "- Bob can wait because there are no boxes in the storage\n",
    "\n",
    "utilization if the opposite of how much it's idle (100% of usage = 0% of waiting)\n",
    "\n",
    "1 of bars is easy for sure:\n",
    "- when there is a storage --> Alice doesn't for Bob and just starts a new box, hence her utilization is 100%\n",
    "\n",
    "**but the question here is rather**: how much time she is actually spending working when there is no storage?"
   ]
  },
  {
   "cell_type": "code",
   "execution_count": 1,
   "metadata": {},
   "outputs": [
    {
     "name": "stdout",
     "output_type": "stream",
     "text": [
      "[[10  4]\n",
      " [20  6]\n",
      " [30 10]\n",
      " [40 20]\n",
      " [50 40]\n",
      " [60 11]\n",
      " [70  5]\n",
      " [80  4]]\n",
      "(8, 2)\n"
     ]
    }
   ],
   "source": [
    "import numpy as np\n",
    "import numpy.random as rd\n",
    "\n",
    "time_bob = np.array([ #[time, empirical; number of observations]\n",
    "  [10 , 4],\n",
    "  [20 , 6],\n",
    "  [30 , 10],\n",
    "  [40 , 20],\n",
    "  [50 , 40],\n",
    "  [60 , 11],\n",
    "  [70 , 5],\n",
    "  [80 , 4]\n",
    "]) \n",
    "\n",
    "time_alice = np.array([ #[time, empirical; number of observations]\n",
    "  [10 , 4],\n",
    "  [20 , 5],\n",
    "  [30 , 6],\n",
    "  [40 , 7],\n",
    "  [50 , 10],\n",
    "  [60 , 8],\n",
    "  [70 , 6],\n",
    "  [80 , 2]       \n",
    "])\n",
    "\n",
    "print(time_bob)\n",
    "print(time_bob.shape)"
   ]
  },
  {
   "cell_type": "code",
   "execution_count": 2,
   "metadata": {},
   "outputs": [],
   "source": [
    "def min_vals(*args):\n",
    "    vals = [v for v in args if v is not None]\n",
    "    if len(vals)==0:\n",
    "        return None\n",
    "    return min(vals)\n",
    "\n",
    "assert min_vals(1,2,3) == 1\n",
    "assert min_vals(4,2,None) == 2\n",
    "assert min_vals(None,None,None) == None"
   ]
  },
  {
   "cell_type": "code",
   "execution_count": 16,
   "metadata": {},
   "outputs": [],
   "source": [
    "class ProductionLine:\n",
    "    alice_action_end = 0  # time measured in seconds\n",
    "    bob_action_end = None   \n",
    "    alice_has_box = False #Alice holds or prepares box for Bob\n",
    "    bob_has_box = False   #Bob works with box\n",
    "    \n",
    "    storage_counter = 0 ## number of boxes which are currently in the storage ##\n",
    "    \n",
    "    tick  = 0       # simulation step\n",
    "    clock = 0       # time in simulated world in seconds\n",
    "    clock_points = [] ##\n",
    "    completed_boxes = 0 # completed boxes\n",
    "    \n",
    "#  ## {alice_waiting_time : bob_st_cumulative_waiting_time}\n",
    "    alice_waiting_time = 0\n",
    "    alice_cumulative_waiting_time = 0\n",
    "    bob_waiting_time = 0\n",
    "    bob_cumulative_waiting_time = 0\n",
    "\n",
    "    def __init__(self,time_bob,time_alice,storage_active): #constructor\n",
    "        self.time_alice = time_alice\n",
    "        self.time_bob = time_bob        \n",
    "        self.p_time_alice = time_alice[:,1]/np.sum(time_alice[:,1])\n",
    "        self.p_time_bob = time_bob[:,1]/np.sum(time_bob[:,1]) \n",
    "        self.storage_active = storage_active ## new parameter to control scenario mode\n",
    "    \n",
    "    def step(self):\n",
    "        #Selecting the next event to happen\n",
    "        # Calculating the time of the next event to happen\n",
    "        # Check if this event triggers another conditional action such as leaving the queue\n",
    "        \n",
    "        #Alice & Bob\n",
    "        #Unconditional events: Alice completed job, Bob completed job\n",
    "        #Conditional events: \n",
    "        # - Alice starts job (needs to have free hands)\n",
    "        # - Bob starts job (needs to have free hands and a box must be available)\n",
    "        \n",
    "        #unconditional event\n",
    "        self.clock = min_vals(self.alice_action_end,self.bob_action_end)\n",
    "        \n",
    "        # 1st scenario: Alice has a box the box but she needs to wait for a Bob\n",
    "        if self.alice_has_box and self.bob_action_end is not None and self.bob_action_end > self.alice_action_end:\n",
    "           ## if storage is active --> put finished box in a storage and start a new one:\n",
    "            if self.storage_active:\n",
    "                self.storage_counter += 1 ## (can be written without else here)\n",
    "                self.alice_has_box = False\n",
    "                print(f\"there are {self.storage_counter} boxes in storage\")\n",
    "                self.alice_cumulative_waiting_time = 0\n",
    "                self.clock = self.alice_action_end ## ?\n",
    "            ## Alice waiting for Bob condition (for no storage)\n",
    "            elif not self.storage_active:\n",
    "                self.alice_waiting_time = (self.bob_action_end - self.alice_action_end) ## Alice waiting time on step\n",
    "                self.alice_cumulative_waiting_time += self.alice_waiting_time\n",
    "                print(f\"ALICE NEEDS TO WAIT FOR A BOB {self.alice_waiting_time} SECONDS. HER CUMULATIVE WAITING TIME NOW = {self.alice_cumulative_waiting_time}\")\n",
    "                self.clock = self.bob_action_end \n",
    "        \n",
    "        # 2nd scenario: Alice is free and not doing anything --> then she takes a box\n",
    "        if not self.alice_has_box:\n",
    "            self.alice_has_box = True\n",
    "            self.alice_action_end = self.clock + \\\n",
    "                    rd.choice(self.time_alice[:,0],p=self.p_time_alice)\n",
    "            print(self.clock, \"Alice starts doing new box for the time \", self.alice_action_end)\n",
    "\n",
    "        # 3nd scenario: if Bob has box in his hands and he has just finished manufacturing the box\n",
    "        if self.bob_has_box and self.bob_action_end <= self.clock:\n",
    "            print(self.clock, \"Bob finishes the box\")\n",
    "            self.completed_boxes += 1\n",
    "            self.bob_action_end = None\n",
    "            self.bob_has_box = False\n",
    "        \n",
    "       ## 5th scnario: Bob waiting for Alice condition (5th goes right after 3rd!?)\n",
    "        ###\n",
    "        if self.bob_action_end is None and self.clock < self.alice_action_end and self.clock > 0:\n",
    "#             # here should be a condition for storage?\n",
    "#             if self.storage_active:\n",
    "#                 if self.storage_counter > 0:\n",
    "#                     ## take a box from storage\n",
    "#                     self.storage_counter -= 1\n",
    "#                     print(f\"there are {self.storage_counter} boxes in storage\")\n",
    "#                     self.bob_has_box = True\n",
    "#     #                 self.bob_action_end = \n",
    "#     #                 self.bob_waiting_time =\n",
    "#     #                 self.bob_cumulative_waiting_time = \n",
    "# #                 elif self.storage_counter == 0\n",
    "                    \n",
    "# #             elif not self.storage_active:\n",
    "            if not self.storage_active:\n",
    "                self.bob_waiting_time = (self.alice_action_end - self.clock)\n",
    "                self.bob_cumulative_waiting_time += (self.alice_action_end - self.clock)\n",
    "                print(f\"BOB NEEDS TO WAIT FOR ALICE {self.bob_waiting_time} SECONDS. HIS CUMULATIVE WAITING TIME NOW = {self.bob_cumulative_waiting_time}\")\n",
    "                \n",
    "            \n",
    "        # 4th scenario: if Alice has a box and Alice has finished a job --> Alice is ready to pass the box to Bob\n",
    "        if self.alice_has_box and (self.alice_action_end is None or self.alice_action_end <= self.clock):\n",
    "            print(self.clock, \"Alice is ready to pass box to Bob \")\n",
    "            if not self.bob_has_box:            \n",
    "                self.bob_action_end = self.clock + \\\n",
    "                   rd.choice(self.time_bob[:,0],p=self.p_time_bob)\n",
    "                print(self.clock, \"Bob takes the box from Alice and will be ready at \",self.bob_action_end)\n",
    "                self.bob_has_box = True\n",
    "                self.alice_has_box = False\n",
    "        \n",
    "        self.tick = self.tick + 1 #increase step size\n",
    "        self.clock_points.append(self.clock)\n",
    "        \n",
    "        \n",
    "    def status(self):\n",
    "        print(\"### tick =\",self.tick,\"clock =\",self.clock,\"Alice has box\", self.alice_has_box,\"Alice end =\",\n",
    "              self.alice_action_end,\n",
    "              \"Bob end =\",self.bob_action_end, \"Bob has box =\",self.bob_has_box,\n",
    "              \"completed_boxes =\",self.completed_boxes)\n",
    "        "
   ]
  },
  {
   "cell_type": "code",
   "execution_count": 19,
   "metadata": {},
   "outputs": [
    {
     "name": "stdout",
     "output_type": "stream",
     "text": [
      "0 Alice starts doing new box for the time  60\n",
      "### tick = 1 clock = 0 Alice has box True Alice end = 60 Bob end = None Bob has box = False completed_boxes = 0\n",
      "60 Alice is ready to pass box to Bob \n",
      "60 Bob takes the box from Alice and will be ready at  70\n",
      "### tick = 2 clock = 60 Alice has box False Alice end = 60 Bob end = 70 Bob has box = True completed_boxes = 0\n",
      "60 Alice starts doing new box for the time  110\n",
      "### tick = 3 clock = 60 Alice has box True Alice end = 110 Bob end = 70 Bob has box = True completed_boxes = 0\n",
      "70 Bob finishes the box\n",
      "### tick = 4 clock = 70 Alice has box True Alice end = 110 Bob end = None Bob has box = False completed_boxes = 1\n",
      "110 Alice is ready to pass box to Bob \n",
      "110 Bob takes the box from Alice and will be ready at  160\n",
      "### tick = 5 clock = 110 Alice has box False Alice end = 110 Bob end = 160 Bob has box = True completed_boxes = 1\n",
      "110 Alice starts doing new box for the time  160\n",
      "### tick = 6 clock = 110 Alice has box True Alice end = 160 Bob end = 160 Bob has box = True completed_boxes = 1\n",
      "160 Bob finishes the box\n",
      "160 Alice is ready to pass box to Bob \n",
      "160 Bob takes the box from Alice and will be ready at  200\n",
      "### tick = 7 clock = 160 Alice has box False Alice end = 160 Bob end = 200 Bob has box = True completed_boxes = 2\n",
      "160 Alice starts doing new box for the time  190\n",
      "### tick = 8 clock = 160 Alice has box True Alice end = 190 Bob end = 200 Bob has box = True completed_boxes = 2\n",
      "there are 1 boxes in storage\n",
      "190 Alice starts doing new box for the time  250\n",
      "### tick = 9 clock = 190 Alice has box True Alice end = 250 Bob end = 200 Bob has box = True completed_boxes = 2\n",
      "200 Bob finishes the box\n",
      "### tick = 10 clock = 200 Alice has box True Alice end = 250 Bob end = None Bob has box = False completed_boxes = 3\n",
      "250 Alice is ready to pass box to Bob \n",
      "250 Bob takes the box from Alice and will be ready at  280\n",
      "### tick = 11 clock = 250 Alice has box False Alice end = 250 Bob end = 280 Bob has box = True completed_boxes = 3\n",
      "250 Alice starts doing new box for the time  270\n",
      "### tick = 12 clock = 250 Alice has box True Alice end = 270 Bob end = 280 Bob has box = True completed_boxes = 3\n",
      "there are 2 boxes in storage\n",
      "270 Alice starts doing new box for the time  330\n",
      "### tick = 13 clock = 270 Alice has box True Alice end = 330 Bob end = 280 Bob has box = True completed_boxes = 3\n",
      "280 Bob finishes the box\n",
      "### tick = 14 clock = 280 Alice has box True Alice end = 330 Bob end = None Bob has box = False completed_boxes = 4\n",
      "330 Alice is ready to pass box to Bob \n",
      "330 Bob takes the box from Alice and will be ready at  400\n",
      "### tick = 15 clock = 330 Alice has box False Alice end = 330 Bob end = 400 Bob has box = True completed_boxes = 4\n",
      "330 Alice starts doing new box for the time  340\n",
      "### tick = 16 clock = 330 Alice has box True Alice end = 340 Bob end = 400 Bob has box = True completed_boxes = 4\n",
      "there are 3 boxes in storage\n",
      "340 Alice starts doing new box for the time  390\n",
      "### tick = 17 clock = 340 Alice has box True Alice end = 390 Bob end = 400 Bob has box = True completed_boxes = 4\n",
      "there are 4 boxes in storage\n",
      "390 Alice starts doing new box for the time  450\n",
      "### tick = 18 clock = 390 Alice has box True Alice end = 450 Bob end = 400 Bob has box = True completed_boxes = 4\n",
      "400 Bob finishes the box\n",
      "### tick = 19 clock = 400 Alice has box True Alice end = 450 Bob end = None Bob has box = False completed_boxes = 5\n",
      "450 Alice is ready to pass box to Bob \n",
      "450 Bob takes the box from Alice and will be ready at  500\n",
      "### tick = 20 clock = 450 Alice has box False Alice end = 450 Bob end = 500 Bob has box = True completed_boxes = 5\n",
      "450 Alice starts doing new box for the time  510\n",
      "### tick = 21 clock = 450 Alice has box True Alice end = 510 Bob end = 500 Bob has box = True completed_boxes = 5\n",
      "500 Bob finishes the box\n",
      "### tick = 22 clock = 500 Alice has box True Alice end = 510 Bob end = None Bob has box = False completed_boxes = 6\n",
      "510 Alice is ready to pass box to Bob \n",
      "510 Bob takes the box from Alice and will be ready at  550\n",
      "### tick = 23 clock = 510 Alice has box False Alice end = 510 Bob end = 550 Bob has box = True completed_boxes = 6\n",
      "510 Alice starts doing new box for the time  580\n",
      "### tick = 24 clock = 510 Alice has box True Alice end = 580 Bob end = 550 Bob has box = True completed_boxes = 6\n",
      "550 Bob finishes the box\n",
      "### tick = 25 clock = 550 Alice has box True Alice end = 580 Bob end = None Bob has box = False completed_boxes = 7\n",
      "580 Alice is ready to pass box to Bob \n",
      "580 Bob takes the box from Alice and will be ready at  630\n",
      "### tick = 26 clock = 580 Alice has box False Alice end = 580 Bob end = 630 Bob has box = True completed_boxes = 7\n",
      "580 Alice starts doing new box for the time  630\n",
      "### tick = 27 clock = 580 Alice has box True Alice end = 630 Bob end = 630 Bob has box = True completed_boxes = 7\n",
      "630 Bob finishes the box\n",
      "630 Alice is ready to pass box to Bob \n",
      "630 Bob takes the box from Alice and will be ready at  660\n",
      "### tick = 28 clock = 630 Alice has box False Alice end = 630 Bob end = 660 Bob has box = True completed_boxes = 8\n",
      "630 Alice starts doing new box for the time  670\n",
      "### tick = 29 clock = 630 Alice has box True Alice end = 670 Bob end = 660 Bob has box = True completed_boxes = 8\n",
      "660 Bob finishes the box\n",
      "### tick = 30 clock = 660 Alice has box True Alice end = 670 Bob end = None Bob has box = False completed_boxes = 9\n",
      "670 Alice is ready to pass box to Bob \n",
      "670 Bob takes the box from Alice and will be ready at  720\n",
      "### tick = 31 clock = 670 Alice has box False Alice end = 670 Bob end = 720 Bob has box = True completed_boxes = 9\n",
      "670 Alice starts doing new box for the time  710\n",
      "### tick = 32 clock = 670 Alice has box True Alice end = 710 Bob end = 720 Bob has box = True completed_boxes = 9\n",
      "there are 5 boxes in storage\n",
      "710 Alice starts doing new box for the time  750\n",
      "### tick = 33 clock = 710 Alice has box True Alice end = 750 Bob end = 720 Bob has box = True completed_boxes = 9\n",
      "720 Bob finishes the box\n",
      "### tick = 34 clock = 720 Alice has box True Alice end = 750 Bob end = None Bob has box = False completed_boxes = 10\n",
      "750 Alice is ready to pass box to Bob \n",
      "750 Bob takes the box from Alice and will be ready at  800\n",
      "### tick = 35 clock = 750 Alice has box False Alice end = 750 Bob end = 800 Bob has box = True completed_boxes = 10\n",
      "750 Alice starts doing new box for the time  800\n",
      "### tick = 36 clock = 750 Alice has box True Alice end = 800 Bob end = 800 Bob has box = True completed_boxes = 10\n",
      "800 Bob finishes the box\n",
      "800 Alice is ready to pass box to Bob \n",
      "800 Bob takes the box from Alice and will be ready at  850\n",
      "### tick = 37 clock = 800 Alice has box False Alice end = 800 Bob end = 850 Bob has box = True completed_boxes = 11\n",
      "800 Alice starts doing new box for the time  850\n",
      "### tick = 38 clock = 800 Alice has box True Alice end = 850 Bob end = 850 Bob has box = True completed_boxes = 11\n",
      "850 Bob finishes the box\n",
      "850 Alice is ready to pass box to Bob \n",
      "850 Bob takes the box from Alice and will be ready at  910\n",
      "### tick = 39 clock = 850 Alice has box False Alice end = 850 Bob end = 910 Bob has box = True completed_boxes = 12\n",
      "850 Alice starts doing new box for the time  900\n",
      "### tick = 40 clock = 850 Alice has box True Alice end = 900 Bob end = 910 Bob has box = True completed_boxes = 12\n"
     ]
    }
   ],
   "source": [
    "# ProductionLine.storage_active = False ## SWITCH HERE\n",
    "# ProductionLine.storage_active\n",
    "# storage_active_values = [False, True]\n",
    "\n",
    "rd.seed(10)\n",
    "# Starting the model\n",
    "m = ProductionLine(time_bob, time_alice, storage_active=True)  # Creating the object with ___init___ constructor\n",
    "for step in range(40):  \n",
    "    m.step()\n",
    "    m.status()"
   ]
  },
  {
   "cell_type": "code",
   "execution_count": 20,
   "metadata": {},
   "outputs": [
    {
     "name": "stdout",
     "output_type": "stream",
     "text": [
      "- overall time used by Alice = 900\n",
      "- overall time used by Bob = 910\n",
      "Alice cumulative waiting time with storage = 0\n",
      "Bob cumulative waiting time with storage = 0\n",
      "Alice working time with storage = 900\n",
      "Bob working time with storage = 910\n"
     ]
    }
   ],
   "source": [
    "print(f\"- overall time used by Alice = {m.alice_action_end}\") ##\n",
    "print(f\"- overall time used by Bob = {m.bob_action_end}\") ##\n",
    "# print(f\"- clock = {m.clock}\") ##\n",
    "\n",
    "if m.storage_active:\n",
    "    print(f\"Alice cumulative waiting time with storage = {m.alice_cumulative_waiting_time}\") \n",
    "    print(f\"Bob cumulative waiting time with storage = {m.bob_cumulative_waiting_time}\")\n",
    "    alice_working_time_with_storage = m.alice_action_end - m.alice_cumulative_waiting_time\n",
    "    bob_working_time_with_storage = m.bob_action_end - m.bob_cumulative_waiting_time\n",
    "    print(f\"Alice working time with storage = {alice_working_time_with_storage}\")\n",
    "    print(f\"Bob working time with storage = {bob_working_time_with_storage}\")\n",
    "elif not m.storage_active:\n",
    "    print(f\"Alice cumulative waiting time without storage = {m.alice_cumulative_waiting_time}\")\n",
    "    print(f\"Bob cumulative waiting time without storage = {m.bob_cumulative_waiting_time}\")\n",
    "    alice_working_time_without_storage = m.alice_action_end - m.alice_cumulative_waiting_time\n",
    "    bob_working_time_without_storage = m.bob_action_end - m.bob_cumulative_waiting_time\n",
    "    print(f\"Alice working time without storage = {alice_working_time_without_storage}\")\n",
    "    print(f\"Bob working time without storage = {bob_working_time_without_storage}\")"
   ]
  },
  {
   "cell_type": "code",
   "execution_count": 14,
   "metadata": {},
   "outputs": [
    {
     "ename": "NameError",
     "evalue": "name 'bob_working_time_with_storage' is not defined",
     "output_type": "error",
     "traceback": [
      "\u001b[0;31m---------------------------------------------------------------------------\u001b[0m",
      "\u001b[0;31mNameError\u001b[0m                                 Traceback (most recent call last)",
      "\u001b[0;32m<ipython-input-14-cb7cd057369d>\u001b[0m in \u001b[0;36m<module>\u001b[0;34m\u001b[0m\n\u001b[1;32m      1\u001b[0m utility = {\"Alice without storage\": alice_working_time_without_storage, \"Alice with storage\": alice_working_time_with_storage,\n\u001b[0;32m----> 2\u001b[0;31m            \"Bob without storage\": bob_working_time_without_storage ,\"Bob with storage\": bob_working_time_with_storage}\n\u001b[0m",
      "\u001b[0;31mNameError\u001b[0m: name 'bob_working_time_with_storage' is not defined"
     ]
    }
   ],
   "source": [
    "utility = {\"Alice without storage\": alice_working_time_without_storage, \"Alice with storage\": alice_working_time_with_storage,\n",
    "           \"Bob without storage\": bob_working_time_without_storage ,\"Bob with storage\": bob_working_time_with_storage}"
   ]
  },
  {
   "cell_type": "code",
   "execution_count": 377,
   "metadata": {},
   "outputs": [
    {
     "data": {
      "text/plain": [
       "{'Alice without storage': 600,\n",
       " 'Alice with storage': 250,\n",
       " 'Bob without storage': 850,\n",
       " 'Bob with storage': 250}"
      ]
     },
     "execution_count": 377,
     "metadata": {},
     "output_type": "execute_result"
    }
   ],
   "source": [
    "utility # 3 out of 4 correct? Only \"Bob with storage\" left"
   ]
  },
  {
   "cell_type": "code",
   "execution_count": 249,
   "metadata": {},
   "outputs": [
    {
     "data": {
      "image/png": "[encoded data removed]",
      "text/plain": [
       "<Figure size 432x288 with 1 Axes>"
      ]
     },
     "metadata": {
      "needs_background": "light"
     },
     "output_type": "display_data"
    }
   ],
   "source": [
    "import matplotlib.pyplot as plt\n",
    "\n",
    "# fig, ax = plt.subplots() \n",
    "names = list(utility.keys())\n",
    "values = list(utility.values())\n",
    "plt.bar(range(len(utility)),values,tick_label=names)\n",
    "plt.xticks(rotation=10)\n",
    "ax.set_title('Alice and Bob utilization (working time)')\n",
    "plt.ylabel('seconds')\n",
    "plt.savefig('utilization.png')\n",
    "plt.show()"
   ]
  },
  {
   "cell_type": "markdown",
   "metadata": {},
   "source": [
    "### Overall storage time is just Alice waiting time + Bob waiting time? Or not? If yes --> 310 + 50 = 360"
   ]
  },
  {
   "cell_type": "code",
   "execution_count": 43,
   "metadata": {},
   "outputs": [],
   "source": [
    "# storage = m.alice_cumulative_waiting_time + m.bob_cumulative_waiting_time\n",
    "# storage"
   ]
  },
  {
   "cell_type": "code",
   "execution_count": 44,
   "metadata": {},
   "outputs": [
    {
     "data": {
      "text/plain": [
       "array([  0,  60,  70, 110, 160, 190, 200, 210, 250, 270, 280, 340, 390,\n",
       "       400, 440, 470, 480, 520, 530, 560, 600, 610, 650, 660, 700, 710,\n",
       "       760, 810, 830, 850, 870, 910])"
      ]
     },
     "execution_count": 44,
     "metadata": {},
     "output_type": "execute_result"
    }
   ],
   "source": [
    "storage_time_points = np.unique(m.clock_points)\n",
    "storage_time_points"
   ]
  },
  {
   "cell_type": "code",
   "execution_count": 45,
   "metadata": {},
   "outputs": [
    {
     "data": {
      "text/plain": [
       "12"
      ]
     },
     "execution_count": 45,
     "metadata": {},
     "output_type": "execute_result"
    }
   ],
   "source": [
    "m.box_added_to_storage"
   ]
  },
  {
   "cell_type": "code",
   "execution_count": null,
   "metadata": {},
   "outputs": [],
   "source": []
  }
 ],
 "metadata": {
  "kernelspec": {
   "display_name": "Python 3",
   "language": "python",
   "name": "python3"
  },
  "language_info": {
   "codemirror_mode": {
    "name": "ipython",
    "version": 3
   },
   "file_extension": ".py",
   "mimetype": "text/x-python",
   "name": "python",
   "nbconvert_exporter": "python",
   "pygments_lexer": "ipython3",
   "version": "3.8.2"
  }
 },
 "nbformat": 4,
 "nbformat_minor": 4
}
