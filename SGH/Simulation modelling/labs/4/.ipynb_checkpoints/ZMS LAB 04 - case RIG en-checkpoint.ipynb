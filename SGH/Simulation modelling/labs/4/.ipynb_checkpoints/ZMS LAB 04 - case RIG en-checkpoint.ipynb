{
 "cells": [
  {
   "cell_type": "markdown",
   "metadata": {},
   "source": [
    "# Advanced Simulation Modeling\n",
    "\n",
    "contact: annaszczurek2@gmail.com\n",
    "\n",
    "## 04 RIG CASE STUDY - INVESTMENT\n",
    "\n",
    "A group of SGH graduates, having investment advisor license, founded the RIG company and opened their own closed investment fund.\n",
    "The fund's strategy assumes investing in a portfolio of shares from among 11 the most promising securities quoted on the WSE.\n",
    "\n",
    "The goal is to maximize the rate of return over a 1 year horizon (252 session days) assuming that:\n",
    "\n",
    "Option 1. The expected rate of return cannot be lower than 5%.\n",
    "\n",
    "Option 2. The portfolio variance may not be higher than half the variance of returns on shares with the highest variance\n",
    "\n",
    "## SOLUTION\n",
    "\n",
    "### 1. MARKET DATA"
   ]
  },
  {
   "cell_type": "code",
   "execution_count": null,
   "metadata": {},
   "outputs": [],
   "source": [
    "import matplotlib.pyplot as plt\n",
    "import numpy as np\n",
    "import pandas as pd\n",
    "import scipy as sc\n",
    "import scipy.optimize as so\n",
    "import statsmodels.formula.api as sm\n"
   ]
  },
  {
   "cell_type": "code",
   "execution_count": null,
   "metadata": {
    "scrolled": true
   },
   "outputs": [],
   "source": [
    "# read rig.txt data, describe, visualize\n",
    "data = pd.read_csv(\"rig.txt\", delimiter = \";\", header = None, usecols=range(1,12))\n",
    "data.drop([3,4], axis = 1).plot()\n",
    "data.describe()"
   ]
  },
  {
   "cell_type": "markdown",
   "metadata": {},
   "source": [
    "#### Returns"
   ]
  },
  {
   "cell_type": "code",
   "execution_count": null,
   "metadata": {},
   "outputs": [],
   "source": [
    "# calculate returns for each share - relative to the initial value\n",
    "data_returns0 = data.apply(lambda x: x/x[0])\n",
    "data_returns0.head(10)\n",
    "data_returns0.drop([4, 5, 11], axis = 1).plot()"
   ]
  },
  {
   "cell_type": "code",
   "execution_count": null,
   "metadata": {},
   "outputs": [],
   "source": [
    "# calculate logaritmic daily returns\n",
    "data_returns = data.apply(lambda x: np.log(x) - np.log(x.shift(1)))\n",
    "data_returns.plot()"
   ]
  },
  {
   "cell_type": "markdown",
   "metadata": {},
   "source": [
    "#### Market data - moving averages and MNK"
   ]
  },
  {
   "cell_type": "code",
   "execution_count": null,
   "metadata": {},
   "outputs": [],
   "source": [
    "# MV 50, 200 and 500\n",
    "\n",
    "mv50 = data.rolling(window = 50, center = False).mean()\n",
    "mv200 = data.rolling(window = 200, center = False).mean()\n",
    "mv500 = data.rolling(window = 500, center = False).mean()\n"
   ]
  },
  {
   "cell_type": "code",
   "execution_count": null,
   "metadata": {},
   "outputs": [],
   "source": [
    "plt.plot(data[3], label = \"Price\")\n",
    "plt.plot(mv50[3], label = \"mv50\")\n",
    "plt.plot(mv500[3], label = \"mv500\")\n",
    "plt.legend()\n",
    "plt.show()"
   ]
  },
  {
   "cell_type": "markdown",
   "metadata": {},
   "source": [
    "### 2. Select optimal portfolio for 2 scenarios\n",
    "#### SCENARIO 1: expected rate of return >= 5%\n",
    "\n",
    "expected rate of return should be at least 5%, using a geometric mean its daily value is calculated"
   ]
  },
  {
   "cell_type": "code",
   "execution_count": null,
   "metadata": {
    "scrolled": true
   },
   "outputs": [],
   "source": [
    "# calculate daily expected rate of return using a geometric mean for 252 session days \n",
    "r_min = 1.05 ** (1/252) - 1; r_min"
   ]
  },
  {
   "cell_type": "markdown",
   "metadata": {},
   "source": [
    "#### SCENARIO 2: portfolio variance - cannot be higher than half the variance of returns on shares with the highest variance\n",
    "\n",
    "calculate average and standard deviation of the log returns for each share and based on the result set the portfolio variance limit"
   ]
  },
  {
   "cell_type": "code",
   "execution_count": null,
   "metadata": {},
   "outputs": [],
   "source": [
    "# calculate average and standard deviation of the log returns for each share\n",
    "r_mean = data_returns.mean() \n",
    "r_std = data_returns.std()\n",
    "\n",
    "# calculate maximum portfolio variance\n",
    "var_max = 0.5 * ( max(r_std)**2 )\n"
   ]
  },
  {
   "cell_type": "markdown",
   "metadata": {},
   "source": [
    "#### Initial portfolio\n",
    "\n",
    "- create covariance and correlation matrix based on RoR\n",
    "- assign initial portfolio weights\n",
    "- functions calculating return on investments and portfolio variance\n",
    "\n",
    "(por. np. https://www.bankier.pl/wiadomosc/Dywersyfikacja-7337529.html)"
   ]
  },
  {
   "cell_type": "code",
   "execution_count": null,
   "metadata": {},
   "outputs": [],
   "source": [
    "# create covariance and correlation matrices for log returns \n",
    "cov = data_returns.cov()\n",
    "cor = data_returns.corr()\n",
    "\n",
    "# create initial shares weight - assuming each share is equally important\n",
    "weights = np.ones(data.shape[1])/(data.shape[1]) ; weights"
   ]
  },
  {
   "cell_type": "code",
   "execution_count": null,
   "metadata": {},
   "outputs": [],
   "source": [
    "# create functions for calculating portfolio mean and variance (risk)\n",
    "\n",
    "def portfolio_mean(weights):\n",
    "    return( sum(weights * r_mean) )\n",
    "\n",
    "def portfolio_var(weights):\n",
    "    return( np.dot(np.dot(weights, cov), weights) )\n",
    "\n",
    "print(portfolio_mean(weights))\n",
    "print(portfolio_var(weights))"
   ]
  },
  {
   "cell_type": "markdown",
   "metadata": {},
   "source": [
    "#### Optimization models for each scenario\n",
    "\n",
    "[COBYLA](https://en.wikipedia.org/wiki/COBYLA) = Constrained optimization by linear approximation\n",
    "\n",
    "type: inequality means that the constraint function result is to be non-negative\n",
    "\n",
    "#### SCENARIO 1 - constraints"
   ]
  },
  {
   "cell_type": "code",
   "execution_count": null,
   "metadata": {},
   "outputs": [],
   "source": [
    "cons1 = ({'type':'ineq', 'fun': lambda w: sum(w) - 1},\n",
    "        {'type':'ineq', 'fun': lambda w: portfolio_mean(w) - r_min})\n",
    "\n",
    "# optimization model 1\n",
    "opt_1 = so.minimize(portfolio_var, weights, method = \"COBYLA\", \n",
    "                    constraints = cons1)\n",
    "\n",
    "# results\n",
    "w_1 = opt_1.x\n",
    "print(w_1); print(sum(w_1))\n",
    "print( (1 + portfolio_mean(w_1)) ** 252 - 1 )\n",
    "print( portfolio_var(w_1) )"
   ]
  },
  {
   "cell_type": "markdown",
   "metadata": {},
   "source": [
    "#### SCENARIO 2 - constraints"
   ]
  },
  {
   "cell_type": "code",
   "execution_count": null,
   "metadata": {},
   "outputs": [],
   "source": [
    "cons2 = ({'type':'ineq', 'fun': lambda w: sum(w) - 1},\n",
    "        {'type':'ineq', 'fun': lambda w: var_max - portfolio_var(w)})\n",
    "\n",
    "# model optymalizacyjny 1\n",
    "opt_2 = so.minimize(portfolio_var, weights, method = \"COBYLA\", \n",
    "                    constraints = cons2)\n",
    "\n",
    "# wyniki\n",
    "w_2 = opt_2.x\n",
    "print(w_2); print(sum(w_2))\n",
    "print( (1 + portfolio_mean(w_2)) ** 252 - 1 )\n",
    "print( portfolio_var(w_2) )"
   ]
  },
  {
   "cell_type": "markdown",
   "metadata": {},
   "source": [
    "### 3. SIMULATION MODEL AND `RUN()` FUNCTION\n",
    "\n",
    "\n",
    "estimate financial result assuming optimized models\n",
    "\n",
    "\n",
    "- [Cholesky decomposition](https://en.wikipedia.org/wiki/Cholesky_decomposition)\n",
    "- [Jak losować zmienne ze złożonych rozkładów?](http://pbiecek.github.io/Przewodnik/Programowanie/generatory_3.html)"
   ]
  },
  {
   "cell_type": "code",
   "execution_count": null,
   "metadata": {},
   "outputs": [],
   "source": [
    "def simulation (data, time_horizon, weights):\n",
    "    \n",
    "    # create a dataframe of daily log returns\n",
    "    log_returns = data.apply(lambda x : np.log(x) - np.log(x.shift(1)))\n",
    "    \n",
    "    # calculate average and standard deviation of each share\n",
    "    std_r = log_returns.std()\n",
    "    mean_r = log_returns.mean()\n",
    "    \n",
    "    # based on a correlation matrix find the lower triangular matrix from Cholesky decomposition\n",
    "    corr = log_returns.corr()\n",
    "    L = np.linalg.cholesky(corr)\n",
    "    \n",
    "    # initial share values (most recent historical stock values):\n",
    "    P0 = data.iloc[-1]\n",
    "    \n",
    "    # generate returns assuming a multidimensional normal distribution\n",
    "    rates = []\n",
    "    for i in range(time_horizon):\n",
    "        # generate a list of random numbers N~(0,1) - one for each action\n",
    "        random_vector =  sc.random.normal(0, 1, data.shape[1]) \n",
    "        \n",
    "        # calculate the product of the random_vector and the transposed matrix L\n",
    "        random_vector = np.dot( random_vector, np.transpose(L) )\n",
    "        \n",
    "        # append to the \"rates\" list the product of random_vector and standard deviations for each share, \n",
    "        # increased by the average value for each share\n",
    "        rates.append(random_vector * std_r + mean_r)\n",
    "    \n",
    "    r_cum = list( map(sum, np.transpose(rates)) ) # cumulative returns on shares\n",
    "    r_cum = list( map(np.exp, r_cum) ) # exp (r_cum) for each action\n",
    "    # V = (P0 * weights * r_cum ) # end value (P0 multiplied by r_cum)\n",
    "    V = sum(P0 * weights * r_cum ) # end value (P0 multiplied by r_cum)\n",
    "    return(V)\n",
    "\n",
    "\n",
    "def run(repeats, data, time_horizon, weights):\n",
    "    V = []    \n",
    "    for i in range(repeats):\n",
    "        V.append(simulation(data, time_horizon, weights))\n",
    "    return(V)\n"
   ]
  },
  {
   "cell_type": "markdown",
   "metadata": {},
   "source": [
    "### 3. SIMULATION RESULTS\n",
    "\n",
    "#### SCENARIO 1"
   ]
  },
  {
   "cell_type": "code",
   "execution_count": null,
   "metadata": {
    "scrolled": true
   },
   "outputs": [],
   "source": [
    "start_value = sum(data.iloc[len(data) - 1] * w_1)\n",
    "\n",
    "final_value = run(10, data, 252, w_1)"
   ]
  },
  {
   "cell_type": "code",
   "execution_count": null,
   "metadata": {
    "scrolled": true
   },
   "outputs": [],
   "source": [
    "final_value"
   ]
  },
  {
   "cell_type": "markdown",
   "metadata": {},
   "source": [
    "## REPORT \n",
    "\n",
    "### Run simulations that will verify the fund's effectiveness in both assumed scenarios\n",
    "\n",
    "**deadline: 05.05.2020 EOD**\n",
    "\n",
    "\n",
    "### TODO\n",
    "\n",
    "Interpret the simulation results and for each scenario:\n",
    "1. Calculate an average portfolio value with its standard deviation.\n",
    "2. Calculate maximum portfolio loss (VaR) in the horizon of one year (assume a confidence level of 99%).\n",
    "3. Visualize detailed simulation results."
   ]
  }
 ],
 "metadata": {
  "kernelspec": {
   "display_name": "Python 3",
   "language": "python",
   "name": "python3"
  },
  "language_info": {
   "codemirror_mode": {
    "name": "ipython",
    "version": 3
   },
   "file_extension": ".py",
   "mimetype": "text/x-python",
   "name": "python",
   "nbconvert_exporter": "python",
   "pygments_lexer": "ipython3",
   "version": "3.7.6"
  }
 },
 "nbformat": 4,
 "nbformat_minor": 4
}
