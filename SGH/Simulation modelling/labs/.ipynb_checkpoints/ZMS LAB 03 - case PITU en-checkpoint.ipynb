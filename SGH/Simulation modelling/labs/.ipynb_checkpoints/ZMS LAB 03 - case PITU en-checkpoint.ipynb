{
 "cells": [
  {
   "cell_type": "markdown",
   "metadata": {},
   "source": [
    "# Advanced Simulation Modeling\n",
    "\n",
    "contact: annaszczurek2@gmail.com\n",
    "\n",
    "## LAB 03: CASE STUDY - INSURANCE COMPANY\n",
    "\n"
   ]
  },
  {
   "cell_type": "markdown",
   "metadata": {},
   "source": [
    "<table>\n",
    "<tr></tr>\n",
    "<tr><td>\n",
    "\n",
    "| **Insurance company**\n",
    "|----------------\n",
    "| Initial balance = 10 000 USD\n",
    "| Initial insurance premium = 500 USD\n",
    "| Number of damages ~ Poisson \n",
    "| Damage size ~ Lognormal\n",
    "| #TODO\n",
    "| - Find optimal insurance premium value\n",
    "| - Estimate bankruptcy probabilities\n",
    "| - Find optimal initial balance and insurance premium for bankruptcy probabilitiy less than 0.1\n",
    "    \n",
    "</td><td>\n",
    "\n",
    "\n",
    "<table>\n",
    "<tr></tr>\n",
    "<tr><td>\n",
    "\n",
    "| Number of damages    | Number of insurance policies\n",
    "|-----------------|-------------\n",
    "| 0               | 3 437\n",
    "| 1               | 522\n",
    "| 2               | 40\n",
    "| 3               | 2\n",
    "| 4               | 0\n",
    "| 5               | 0\n",
    "\n",
    "</td><td>\n",
    "\n",
    "| Damage size | Number of damages \n",
    "|-----------------|-------------\n",
    "| -               | 0\n",
    "| 100             | 0\n",
    "| 200             | 2\n",
    "| 500             | 27\n",
    "| 1 000           | 52\n",
    "| 2 000           | 115\n",
    "| 5 000           | 203\n",
    "| 10 000          | 106\n",
    "| 20 000          | 42\n",
    "| 40 000          | 14\n",
    "| 50 000          | 0\n",
    "| 55 000          | 0\n",
    "| 60 000          | 1\n",
    "\n",
    "</td></tr> </table>\n"
   ]
  },
  {
   "cell_type": "markdown",
   "metadata": {},
   "source": [
    "`Poisson distribution` - a discrete probability distribution that expresses the probability of a given number of events occurring in a fixed interval of time or space\n",
    "\n",
    "`Log-normal distribution` - a continuous probability distribution of a random variable whose logarithm is normally distributed"
   ]
  },
  {
   "cell_type": "markdown",
   "metadata": {},
   "source": [
    "## SOLUTION\n"
   ]
  },
  {
   "cell_type": "code",
   "execution_count": 1,
   "metadata": {},
   "outputs": [],
   "source": [
    "import csv\n",
    "import scipy as sc\n",
    "import matplotlib.pyplot as plt\n",
    "\n",
    "from scipy.stats.stats import kstest"
   ]
  },
  {
   "cell_type": "markdown",
   "metadata": {},
   "source": [
    "## 1. DATA - DISTRIBUTIONS, PARAMETERS\n",
    "\n",
    "### Number of damages"
   ]
  },
  {
   "cell_type": "code",
   "execution_count": 2,
   "metadata": {},
   "outputs": [
    {
     "data": {
      "text/plain": [
       "<BarContainer object of 6 artists>"
      ]
     },
     "execution_count": 2,
     "metadata": {},
     "output_type": "execute_result"
    },
    {
     "data": {
      "image/png": "[encoded data removed]",
      "text/plain": [
       "<Figure size 432x288 with 1 Axes>"
      ]
     },
     "metadata": {
      "needs_background": "light"
     },
     "output_type": "display_data"
    }
   ],
   "source": [
    "number_of_damages = {0 : 3437, \n",
    "                     1 : 522, \n",
    "                     2 : 40, \n",
    "                     3 : 2, \n",
    "                     4 : 0, \n",
    "                     5 : 0}\n",
    "\n",
    "plt.bar(list(number_of_damages.keys()), \n",
    "        list(number_of_damages.values()))"
   ]
  },
  {
   "cell_type": "code",
   "execution_count": 3,
   "metadata": {},
   "outputs": [
    {
     "data": {
      "image/png": "[encoded data removed]",
      "text/plain": [
       "<Figure size 432x288 with 1 Axes>"
      ]
     },
     "metadata": {
      "needs_background": "light"
     },
     "output_type": "display_data"
    }
   ],
   "source": [
    "# average number of damages:\n",
    "number_of_damages_avg = (sum([x * y for x, y in number_of_damages.items()]) / \n",
    "                         sum(number_of_damages.values()))\n",
    "\n",
    "# number of damages ~ Poisson?\n",
    "poisson_test = [sc.stats.poisson.pmf(i, number_of_damages_avg) * \n",
    "                sum(number_of_damages.values()) for i in range(len(number_of_damages))]\n",
    "\n",
    "plt.bar(list(number_of_damages.keys()), poisson_test, color = \"orange\")\n",
    "plt.show()"
   ]
  },
  {
   "cell_type": "code",
   "execution_count": 4,
   "metadata": {},
   "outputs": [
    {
     "name": "stdout",
     "output_type": "stream",
     "text": [
      "fail to reject the null hypothesis\n"
     ]
    }
   ],
   "source": [
    "# chi-squared test:\n",
    "# H0: number of damages follows a Poisson distribution\n",
    "# H0: number of damages does not follow a Poisson distribution\n",
    "\n",
    "test1 = sc.stats.chisquare(list(number_of_damages.values()), f_exp = poisson_test)\n",
    "if test1[1] > 0.05:\n",
    "    print (\"fail to reject the null hypothesis\")\n",
    "else:\n",
    "    print(\"null hypothesis should be rejected\")"
   ]
  },
  {
   "cell_type": "markdown",
   "metadata": {},
   "source": [
    "### Damage size"
   ]
  },
  {
   "cell_type": "code",
   "execution_count": 5,
   "metadata": {},
   "outputs": [
    {
     "data": {
      "image/png": "[encoded data removed]",
      "text/plain": [
       "<Figure size 432x288 with 1 Axes>"
      ]
     },
     "metadata": {
      "needs_background": "light"
     },
     "output_type": "display_data"
    },
    {
     "name": "stdout",
     "output_type": "stream",
     "text": [
      "Average damage size: 4742.0\n"
     ]
    }
   ],
   "source": [
    "damages = []\n",
    "with open('damages.txt','r') as csvfile:\n",
    "    reader = csv.reader (csvfile, delimiter=\";\")\n",
    "    for row in reader:\n",
    "        damages.append(int(row[1]))\n",
    "\n",
    "plt.hist(damages, bins=50)\n",
    "plt.show()\n",
    "\n",
    "print (\"Average damage size:\", round(sc.mean(damages))) "
   ]
  },
  {
   "cell_type": "code",
   "execution_count": 6,
   "metadata": {},
   "outputs": [
    {
     "data": {
      "image/png": "[encoded data removed]",
      "text/plain": [
       "<Figure size 432x288 with 1 Axes>"
      ]
     },
     "metadata": {
      "needs_background": "light"
     },
     "output_type": "display_data"
    }
   ],
   "source": [
    "# damages size ~ Lognormal?\n",
    "damages_ln = sc.log(damages)\n",
    "\n",
    "plt.hist(damages_ln, bins=50)\n",
    "plt.show()        "
   ]
  },
  {
   "cell_type": "code",
   "execution_count": 7,
   "metadata": {},
   "outputs": [
    {
     "name": "stdout",
     "output_type": "stream",
     "text": [
      "p-value:  0.9979 - fail to reject the null hypothesis\n"
     ]
    }
   ],
   "source": [
    "# test K-S\n",
    "test2 = kstest(damages_ln, sc.stats.norm.cdf, \n",
    "               args = (sc.mean(damages_ln), sc.std(damages_ln)))\n",
    "if test2[1] > 0.05:\n",
    "    print (\"p-value: \", round(test2[1], 4), \n",
    "           \"- fail to reject the null hypothesis\")\n",
    "else:\n",
    "    print(\"null hypothesis should be rejected\")"
   ]
  },
  {
   "cell_type": "code",
   "execution_count": 8,
   "metadata": {},
   "outputs": [],
   "source": [
    "# simulation parameters\n",
    "damages_ln_avg = sc.mean(damages_ln)\n",
    "damages_ln_std = sc.std(damages_ln)\n",
    "number_of_policies = 100\n",
    "number_of_damages_avg\n",
    "time_horizon = 2\n",
    "balance = 10000\n",
    "insurance_premium = 500"
   ]
  },
  {
   "cell_type": "markdown",
   "metadata": {},
   "source": [
    "## 2. SIMULATION MODEL"
   ]
  },
  {
   "cell_type": "code",
   "execution_count": 9,
   "metadata": {},
   "outputs": [],
   "source": [
    "def model (number_of_policies, number_of_damages_avg, \n",
    "           damages_ln_avg, damages_ln_std, time_horizon, \n",
    "           balance, insurance_premium, seed):\n",
    "    \n",
    "    # Common Random Numbers:\n",
    "    # sc.random.seed(seed) \n",
    "\n",
    "    # contracts signing calendar:\n",
    "    dates = [sc.random.randint(0, 364) for i in range(number_of_policies)]\n",
    "    calendar_contracts = [0]*365\n",
    "    for day in dates:\n",
    "        calendar_contracts[day] += 1\n",
    "\n",
    "    # number of damages per one policy:\n",
    "    number_of_damages = sc.random.poisson(number_of_damages_avg, \n",
    "                                          number_of_policies)\n",
    "    \n",
    "    # compensations calendar:\n",
    "    calendar_compensations = [0]*(365*time_horizon) \n",
    "    for k in range(number_of_policies):\n",
    "        for s in range(number_of_damages[k]):\n",
    "            compensation_date = dates[k] + sc.random.randint(0, 364)\n",
    "            calendar_compensations[compensation_date] += 1\n",
    "    \n",
    "    \n",
    "    # time_horizon simulation:\n",
    "    for day in range(365*time_horizon):\n",
    "        if day <= 364:\n",
    "            balance += calendar_contracts[day] * insurance_premium\n",
    "        \n",
    "        number_of_compensations = calendar_compensations[day]\n",
    "        compensations = 0 \n",
    "        if number_of_compensations > 0:\n",
    "            compensations = sum(sc.exp(sc.random.normal(damages_ln_avg, \n",
    "                                                        damages_ln_std, \n",
    "                                                        number_of_compensations)))\n",
    "        if balance < compensations:\n",
    "            return balance - compensations\n",
    "        else:\n",
    "            pass\n",
    "        balance -= compensations\n",
    "    return balance"
   ]
  },
  {
   "cell_type": "markdown",
   "metadata": {},
   "source": [
    "### ... and `run()` function"
   ]
  },
  {
   "cell_type": "code",
   "execution_count": 10,
   "metadata": {},
   "outputs": [],
   "source": [
    "def run(balance, insurance_premium, repeats, \n",
    "        number_of_policies, number_of_damages_avg , \n",
    "        damages_ln_avg, damages_ln_std, time_horizon):\n",
    "    \n",
    "    results = []\n",
    "    bankruptcy = 0\n",
    "    results_positve = []\n",
    "    \n",
    "    for seed in range(repeats):\n",
    "        results.append(model(number_of_policies, number_of_damages_avg , \n",
    "                           damages_ln_avg, damages_ln_std, time_horizon, \n",
    "                           balance, insurance_premium, seed))\n",
    "        if results[seed] < 0:\n",
    "            bankruptcy += 1\n",
    "        if results[seed] > 0:\n",
    "            results_positve.append(results[seed])\n",
    "            \n",
    "    results_average = sc.mean(results_positve)\n",
    "    bankruptcy_risk = bankruptcy / repeats\n",
    "    \n",
    "    return [bankruptcy, bankruptcy_risk, results_average]"
   ]
  },
  {
   "cell_type": "markdown",
   "metadata": {},
   "source": [
    "## 3. SIMULATION RESULTS"
   ]
  },
  {
   "cell_type": "code",
   "execution_count": 12,
   "metadata": {},
   "outputs": [
    {
     "name": "stderr",
     "output_type": "stream",
     "text": [
      "/Users/valkoiset/anaconda3/lib/python3.6/site-packages/numpy/core/fromnumeric.py:3118: RuntimeWarning: Mean of empty slice.\n",
      "  out=out, **kwargs)\n",
      "/Users/valkoiset/anaconda3/lib/python3.6/site-packages/numpy/core/_methods.py:85: RuntimeWarning: invalid value encountered in double_scalars\n",
      "  ret = ret.dtype.type(ret / rcount)\n"
     ]
    },
    {
     "name": "stdout",
     "output_type": "stream",
     "text": [
      "BALANCE:  10000 INSURANCE PREMIUM:  500 BANKRUPTCY CNT:  100 AVERAGE RESULT:  nan BANKRUPTCY RISK:  1.0\n",
      "BALANCE:  10000 INSURANCE PREMIUM:  600 BANKRUPTCY CNT:  99 AVERAGE RESULT:  35410.0 BANKRUPTCY RISK:  0.99\n",
      "BALANCE:  10000 INSURANCE PREMIUM:  700 BANKRUPTCY CNT:  64 AVERAGE RESULT:  96985.0 BANKRUPTCY RISK:  0.64\n",
      "BALANCE:  10000 INSURANCE PREMIUM:  800 BANKRUPTCY CNT:  22 AVERAGE RESULT:  159869.0 BANKRUPTCY RISK:  0.22\n",
      "BALANCE:  10000 INSURANCE PREMIUM:  900 BANKRUPTCY CNT:  1 AVERAGE RESULT:  272189.0 BANKRUPTCY RISK:  0.01\n",
      "BALANCE:  20000 INSURANCE PREMIUM:  500 BANKRUPTCY CNT:  100 AVERAGE RESULT:  nan BANKRUPTCY RISK:  1.0\n",
      "BALANCE:  20000 INSURANCE PREMIUM:  600 BANKRUPTCY CNT:  85 AVERAGE RESULT:  24665.0 BANKRUPTCY RISK:  0.85\n",
      "BALANCE:  20000 INSURANCE PREMIUM:  700 BANKRUPTCY CNT:  55 AVERAGE RESULT:  85138.0 BANKRUPTCY RISK:  0.55\n",
      "BALANCE:  20000 INSURANCE PREMIUM:  800 BANKRUPTCY CNT:  9 AVERAGE RESULT:  160655.0 BANKRUPTCY RISK:  0.09\n",
      "BALANCE:  20000 INSURANCE PREMIUM:  900 BANKRUPTCY CNT:  1 AVERAGE RESULT:  297589.0 BANKRUPTCY RISK:  0.01\n",
      "BALANCE:  30000 INSURANCE PREMIUM:  500 BANKRUPTCY CNT:  98 AVERAGE RESULT:  11496.0 BANKRUPTCY RISK:  0.98\n",
      "BALANCE:  30000 INSURANCE PREMIUM:  600 BANKRUPTCY CNT:  89 AVERAGE RESULT:  46066.0 BANKRUPTCY RISK:  0.89\n",
      "BALANCE:  30000 INSURANCE PREMIUM:  700 BANKRUPTCY CNT:  48 AVERAGE RESULT:  80034.0 BANKRUPTCY RISK:  0.48\n",
      "BALANCE:  30000 INSURANCE PREMIUM:  800 BANKRUPTCY CNT:  7 AVERAGE RESULT:  165256.0 BANKRUPTCY RISK:  0.07\n",
      "BALANCE:  30000 INSURANCE PREMIUM:  900 BANKRUPTCY CNT:  1 AVERAGE RESULT:  291194.0 BANKRUPTCY RISK:  0.01\n",
      "BALANCE:  40000 INSURANCE PREMIUM:  500 BANKRUPTCY CNT:  100 AVERAGE RESULT:  nan BANKRUPTCY RISK:  1.0\n",
      "BALANCE:  40000 INSURANCE PREMIUM:  600 BANKRUPTCY CNT:  82 AVERAGE RESULT:  37270.0 BANKRUPTCY RISK:  0.82\n",
      "BALANCE:  40000 INSURANCE PREMIUM:  700 BANKRUPTCY CNT:  45 AVERAGE RESULT:  98025.0 BANKRUPTCY RISK:  0.45\n",
      "BALANCE:  40000 INSURANCE PREMIUM:  800 BANKRUPTCY CNT:  9 AVERAGE RESULT:  178987.0 BANKRUPTCY RISK:  0.09\n",
      "BALANCE:  40000 INSURANCE PREMIUM:  900 BANKRUPTCY CNT:  1 AVERAGE RESULT:  322986.0 BANKRUPTCY RISK:  0.01\n"
     ]
    },
    {
     "data": {
      "image/png": "[encoded data removed]",
      "text/plain": [
       "<Figure size 432x288 with 1 Axes>"
      ]
     },
     "metadata": {
      "needs_background": "light"
     },
     "output_type": "display_data"
    }
   ],
   "source": [
    "# model_parameters\n",
    "results = [] # średni wynik finansowy firmy\n",
    "insurance_cost = []\n",
    "bankruptcy_risk = []\n",
    "bankruptcy_cnt = [] \n",
    "\n",
    "repeats = 100\n",
    "number_of_policies = 1500\n",
    "time_horizon = 2 # 2 years\n",
    "\n",
    "\n",
    "for balance in range(10000, 50000,10000):\n",
    "    for insurance_premium in range(500,1000,100):\n",
    "        run_result = run(balance, insurance_premium, repeats, \n",
    "                         number_of_policies, number_of_damages_avg, \n",
    "                         damages_ln_avg, damages_ln_std, time_horizon)\n",
    "        \n",
    "        insurance_cost.append(insurance_premium)\n",
    "        bankruptcy_cnt.append(run_result[0])\n",
    "        bankruptcy_risk.append(run_result[1])\n",
    "        results.append(run_result[2])\n",
    "        \n",
    "        print(\"BALANCE: \", balance, \"INSURANCE PREMIUM: \", insurance_premium, \n",
    "              \"BANKRUPTCY CNT: \", run_result[0], \"AVERAGE RESULT: \", round(run_result[2]), \n",
    "              \"BANKRUPTCY RISK: \", run_result[1])\n",
    "\n",
    "plt.plot(insurance_cost, bankruptcy_risk)\n",
    "plt.ylabel('BANKRUPTCY RISK')\n",
    "plt.show()"
   ]
  },
  {
   "cell_type": "markdown",
   "metadata": {},
   "source": [
    "Conclusion:\n",
    "After running simulation with 100 repeats and 1500 policies we can clearly see that the there are few scenarios of the lowest bankruptcy risk:\n",
    "* bankruptcy risk = 0.2/0.1: balance - 10000, insurance premium - 800/900\n",
    "* bankruptcy risk = 0.01: balance - 20000, insurance premium - 900\n",
    "* bankruptcy risk = 0.01: balance - 30000, insurance premium - 900\n",
    "* bankruptcy risk = 0.01: balance - 40000, insurance premium - 900\n",
    "\n",
    "Interestingly, that when balance is 20000/30000 but insurance premium is 500/600, bankruptcy risk ~ 0.9"
   ]
  },
  {
   "cell_type": "code",
   "execution_count": null,
   "metadata": {},
   "outputs": [],
   "source": []
  }
 ],
 "metadata": {
  "kernelspec": {
   "display_name": "Python 3",
   "language": "python",
   "name": "python3"
  },
  "language_info": {
   "codemirror_mode": {
    "name": "ipython",
    "version": 3
   },
   "file_extension": ".py",
   "mimetype": "text/x-python",
   "name": "python",
   "nbconvert_exporter": "python",
   "pygments_lexer": "ipython3",
   "version": "3.6.8"
  }
 },
 "nbformat": 4,
 "nbformat_minor": 4
}
