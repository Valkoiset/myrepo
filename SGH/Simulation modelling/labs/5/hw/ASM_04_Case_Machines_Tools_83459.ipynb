{
 "cells": [
  {
   "cell_type": "markdown",
   "metadata": {},
   "source": [
    "# Advanced Simulation Modeling\n",
    "\n",
    "contact: annaszczurek2@gmail.com\n",
    "\n",
    "## 02 CASE STUDY - MACHINES AND TOOLS\n",
    "\n",
    "- 6 machines\n",
    "- 5 repair tools\n",
    "- trouble-free operation time for the machine ~ Exponential Dist with exp = 75min\n",
    "- tools transportation time\n",
    "  - 1st scenario: $t_i=i*2$\n",
    "  - 2nd scenario: 3 minutes\n",
    "- repair time ~ Erlang Dist with k=3 and exp = 15 minutes\n",
    "\n",
    "\n",
    "## SOLUTION\n",
    "\n",
    "### 1. Parameters"
   ]
  },
  {
   "cell_type": "code",
   "execution_count": 1,
   "metadata": {},
   "outputs": [],
   "source": [
    "import numpy as np"
   ]
  },
  {
   "cell_type": "code",
   "execution_count": 2,
   "metadata": {},
   "outputs": [],
   "source": [
    "# number of machines\n",
    "m = 6 \n",
    "\n",
    "# avgerage working time with no damage\n",
    "avg_working_time = 75 # minutes\n",
    "\n",
    "avg_repair_time = 15 # minutes\n",
    "\n",
    "# number of repairing tools\n",
    "n = 5\n",
    "\n",
    "# time horizon\n",
    "horizon = 30 # days\n",
    "\n",
    "# simulation repeats\n",
    "iterations = 10   "
   ]
  },
  {
   "cell_type": "markdown",
   "metadata": {},
   "source": [
    "### 2. Model\n",
    "\n",
    "Events - vectors that are designed to control the simulation state:\n",
    "\n",
    "- moments of occurrence of subsequent events\n",
    "- machines status:\n",
    "    - `W` - operating \n",
    "    - `Q` - waiting for the tools \n",
    "    - `R` - is being repaired\n",
    "- inactivity time\n"
   ]
  },
  {
   "cell_type": "code",
   "execution_count": 26,
   "metadata": {
    "scrolled": true
   },
   "outputs": [],
   "source": [
    "def model(horizon, avg_working_time, avg_repair_time, m, n, setup, events_distribution):\n",
    "    # setup - 1st scenario = \"L\" ; second scenario = \"S\"\n",
    "    \n",
    "    # time horizon in minutes\n",
    "    horizon = horizon * 24 * 60 \n",
    "    \n",
    "    # events - vector that changes the state of the simulation\n",
    "    if events_distribution == \"exp\":\n",
    "        events = list(np.random.exponential(avg_working_time, m))\n",
    "    elif events_distribution == \"pois\":\n",
    "        events = list(np.random.poisson(avg_working_time, m))\n",
    "    \n",
    "    # current machine status\n",
    "    status = [\"W\"] * m\n",
    "\n",
    "    # t_start - determines the beginning of machine inactivity\n",
    "    t_start = [0] * m\n",
    "\n",
    "    # t_cum - cumulative idle time of the machine\n",
    "    t_cum = [0] * m\n",
    "\n",
    "    # tools_loc tools location - machine id or '-1' for standby\n",
    "    tools_loc = [-1] * n\n",
    "\n",
    "    # tools_occupied occupation time for a tool (per machine)\n",
    "    tools_occupied = [0] * n\n",
    "    \n",
    "    # simulation clock - the nearest task to be performed\n",
    "    t = min(events)\n",
    "    \n",
    "    # start simulation - iterating over events\n",
    "    while t <= horizon:\n",
    "        \n",
    "        # if tools are not occupied - move them to the workshop (standby position)\n",
    "        for i in range(n):\n",
    "            if tools_occupied[i] <= t:\n",
    "                tools_loc[i] = -1\n",
    "\n",
    "        # choose machine based on current event\n",
    "        machine = events.index(t)\n",
    "        \n",
    "        \n",
    "#         Event is always associated with the machine.\n",
    "#         If the event-machine is working (\"W\"), the next state might be:\n",
    "#           - \"R\" for being repaired if there is an available tool\n",
    "#           - \"Q\" as \"Queue\" if currently there are no tools available\n",
    "          \n",
    "#         Steps for working machines (\"W\"):\n",
    "#           1) update t_start vector with the time (t) when machine stopped working\n",
    "#           2) check if there is any tool available\n",
    "#              if not:\n",
    "#                2.1) update machine status with \"Q\" as it's waiting in a queue for the tool\n",
    "#                2.2) update events vector with the time the machine needs to wait for \n",
    "#                     the first available tool\n",
    "#              if there is an available tool:\n",
    "#                2.1) update machine status with \"R\" as it's being repaired\n",
    "#                2.2) update events vector with time estimate needed for repairing the machine \n",
    "#                     - depending on the setup (time needed for tool transportation + repair)\n",
    "#                2.3) update tools_loc vector with the index of the machine that is being repaired\n",
    "#                2.4) update tools_occupied vector with the time needed for the repair \n",
    "#                     (2*transportation + repair)\n",
    "        \n",
    "        if status[machine] == \"W\":\n",
    "            t_start[machine] = t\n",
    "            tools = - 1\n",
    "            for i in range(n):\n",
    "                if tools_loc[i] == -1:\n",
    "                    tools = i\n",
    "                    break\n",
    "            if tools == -1 : # if no tools available\n",
    "                status[machine] = \"Q\" # change machine status to queue\n",
    "                events[machine] = min(tools_occupied)\n",
    "            else:\n",
    "                status[machine] = \"R\"\n",
    "                if setup == \"L\":\n",
    "                    transport_time = 2 * (1 + machine) # adding 1 because python indexing starts from 0\n",
    "                elif setup == \"S\":\n",
    "                    transport_time =  3\n",
    "                else:\n",
    "                    print(\"Please choose one of the following: 'L' or 'S'!\")\n",
    "                    break\n",
    "                repair_time = np.random.gamma(3, avg_repair_time/3)\n",
    "                events[machine] += repair_time + transport_time\n",
    "                tools_loc[tools] = machine\n",
    "                tools_occupied[tools] += repair_time + 2 * transport_time\n",
    "\n",
    "        \n",
    "#         Steps for machine waiting for the tool in a queue (\"Q\")\n",
    "#           1) select an available tool\n",
    "#           2) update machine status with \"R\" as it's being repaired\n",
    "#           3) update events vector with time estimate needed for repairing the machine \n",
    "#              - depending on the setup (time needed for tool transportation + repair)\n",
    "#           4) update tools_loc vector with the index of the machine that is being repaired\n",
    "#           5) update tools_occupied vector with the time needed for the repair \n",
    "#              (2*transportation + repair)\n",
    "\n",
    "        elif status[machine] == \"Q\":\n",
    "            for i in range(n):\n",
    "                if tools_loc[i] == -1:\n",
    "                    tools = i\n",
    "                    break\n",
    "            status[machine] = \"R\"\n",
    "            if setup == \"L\":\n",
    "                transport_time = 2 * (1 + machine)\n",
    "            elif setup == \"G\":\n",
    "                transport_time =  3\n",
    "            else:\n",
    "                print(\"Please choose one of the following: 'L' or 'S'!\")\n",
    "                break\n",
    "            repair_time = np.random.gamma(3, avg_repair_time/3)\n",
    "            events[machine] += repair_time + transport_time\n",
    "            tools_loc[tools] = machine\n",
    "            tools_occupied[tools] += repair_time + 2 * transport_time \n",
    "            \n",
    "        \n",
    "#         Steps for machine being repaired (\"R\")\n",
    "#           1) update machine status with \"W\" for working\n",
    "#           3) update events vector with the next inactivity time estimate\n",
    "#           4) update t_cum with machine inactivity (t - t_start[machine])\n",
    "            \n",
    "        else:\n",
    "            status[machine] = \"W\"\n",
    "            events[machine] += np.random.exponential(avg_working_time)\n",
    "            t_cum[machine] += t - t_start[machine]\n",
    "        \n",
    "        # new nearest event\n",
    "        t = min(events)\n",
    "        \n",
    "    # result - a list of cumulated inactivity time for each of the machines\n",
    "    return (t_cum)"
   ]
  },
  {
   "cell_type": "markdown",
   "metadata": {},
   "source": [
    "### 3. `Run()` function"
   ]
  },
  {
   "cell_type": "code",
   "execution_count": 27,
   "metadata": {},
   "outputs": [],
   "source": [
    "def run_model (iterations, horizon, avg_working_time, avg_repair_time, m, n, setup, events_distribution):\n",
    "    avg_t_cum = []\n",
    "    for i in range (iterations):\n",
    "        print(f\"iteration no {i+1}\")\n",
    "        avg_t_cum.append(model(horizon, avg_working_time, avg_repair_time, m, n, setup, events_distribution))\n",
    "    return list(map(np.mean, np.transpose(avg_t_cum)))"
   ]
  },
  {
   "cell_type": "markdown",
   "metadata": {},
   "source": [
    "### 3. Simulation results"
   ]
  },
  {
   "cell_type": "markdown",
   "metadata": {},
   "source": [
    "- exponential distriubution"
   ]
  },
  {
   "cell_type": "code",
   "execution_count": 28,
   "metadata": {},
   "outputs": [],
   "source": [
    "distribution = \"exp\""
   ]
  },
  {
   "cell_type": "code",
   "execution_count": 34,
   "metadata": {
    "scrolled": true
   },
   "outputs": [
    {
     "name": "stdout",
     "output_type": "stream",
     "text": [
      "iteration no 1\n",
      "iteration no 2\n",
      "iteration no 3\n",
      "iteration no 4\n",
      "iteration no 5\n",
      "iteration no 6\n",
      "iteration no 7\n",
      "iteration no 8\n",
      "iteration no 9\n",
      "iteration no 10\n",
      "iteration no 1\n",
      "iteration no 2\n",
      "iteration no 3\n",
      "iteration no 4\n",
      "iteration no 5\n",
      "iteration no 6\n",
      "iteration no 7\n",
      "iteration no 8\n",
      "iteration no 9\n",
      "iteration no 10\n"
     ]
    }
   ],
   "source": [
    "avg_t_cum_exp_l = run_model(iterations, horizon, avg_working_time, avg_repair_time, m, n, \"L\", distribution)\n",
    "avg_t_cum_exp_s = run_model(iterations, horizon, avg_working_time, avg_repair_time, m, n, \"S\", distribution)"
   ]
  },
  {
   "cell_type": "code",
   "execution_count": 35,
   "metadata": {},
   "outputs": [
    {
     "name": "stdout",
     "output_type": "stream",
     "text": [
      "9790.639130588568\n",
      "8337.559267304867\n"
     ]
    }
   ],
   "source": [
    "print(np.mean(avg_t_cum_exp_l))\n",
    "print(np.mean(avg_t_cum_exp_s))"
   ]
  },
  {
   "cell_type": "markdown",
   "metadata": {},
   "source": [
    "- poisson distribution"
   ]
  },
  {
   "cell_type": "code",
   "execution_count": 31,
   "metadata": {},
   "outputs": [],
   "source": [
    "distribution = \"pois\""
   ]
  },
  {
   "cell_type": "code",
   "execution_count": 32,
   "metadata": {},
   "outputs": [
    {
     "name": "stdout",
     "output_type": "stream",
     "text": [
      "iteration no 1\n",
      "iteration no 2\n",
      "iteration no 3\n",
      "iteration no 4\n",
      "iteration no 5\n",
      "iteration no 6\n",
      "iteration no 7\n",
      "iteration no 8\n",
      "iteration no 9\n",
      "iteration no 10\n",
      "iteration no 1\n",
      "iteration no 2\n",
      "iteration no 3\n",
      "iteration no 4\n",
      "iteration no 5\n",
      "iteration no 6\n",
      "iteration no 7\n",
      "iteration no 8\n",
      "iteration no 9\n",
      "iteration no 10\n"
     ]
    }
   ],
   "source": [
    "avg_t_cum_weib_l = run_model(iterations, horizon, avg_working_time, avg_repair_time, m, n, \"L\", distribution)\n",
    "avg_t_cum_weib_s = run_model(iterations, horizon, avg_working_time, avg_repair_time, m, n, \"S\", distribution)"
   ]
  },
  {
   "cell_type": "code",
   "execution_count": 33,
   "metadata": {},
   "outputs": [
    {
     "name": "stdout",
     "output_type": "stream",
     "text": [
      "9816.705588465544\n",
      "8278.012025313017\n"
     ]
    }
   ],
   "source": [
    "print(np.mean(avg_t_cum_weib_l))\n",
    "print(np.mean(avg_t_cum_weib_s))"
   ]
  },
  {
   "cell_type": "code",
   "execution_count": null,
   "metadata": {},
   "outputs": [],
   "source": []
  }
 ],
 "metadata": {
  "kernelspec": {
   "display_name": "Python 3",
   "language": "python",
   "name": "python3"
  },
  "language_info": {
   "codemirror_mode": {
    "name": "ipython",
    "version": 3
   },
   "file_extension": ".py",
   "mimetype": "text/x-python",
   "name": "python",
   "nbconvert_exporter": "python",
   "pygments_lexer": "ipython3",
   "version": "3.6.8"
  }
 },
 "nbformat": 4,
 "nbformat_minor": 4
}
