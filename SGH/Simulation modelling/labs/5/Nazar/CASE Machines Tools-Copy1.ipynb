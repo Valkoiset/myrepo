{
 "cells": [
  {
   "cell_type": "markdown",
   "metadata": {},
   "source": [
    "# Advanced Simulation Modeling\n",
    "\n",
    "contact: annaszczurek2@gmail.com\n",
    "\n",
    "## 02 CASE STUDY - MACHINES AND TOOLS\n",
    "\n",
    "- 6 machines\n",
    "- 5 repair tools\n",
    "- trouble-free operation time for the machine ~ Exponential Dist with exp = 75min\n",
    "- tools transportation time\n",
    "  - 1st scenario: $t_i=i*2$\n",
    "  - 2nd scenario: 3 minutes\n",
    "- repair time ~ Erlang Dist with k=3 and exp = 15 minutes\n",
    "\n",
    "\n",
    "## SOLUTION\n",
    "\n",
    "### 1. Parameters"
   ]
  },
  {
   "cell_type": "code",
   "execution_count": 12,
   "metadata": {},
   "outputs": [],
   "source": [
    "import numpy as np"
   ]
  },
  {
   "cell_type": "code",
   "execution_count": 13,
   "metadata": {},
   "outputs": [],
   "source": [
    "# number of machines\n",
    "m = 6 \n",
    "\n",
    "# avgerage working time with no damage\n",
    "avg_working_time = 75 # minutes\n",
    "\n",
    "avg_repair_time = 15 # minutes\n",
    "\n",
    "# number of repairing tools\n",
    "n = 5\n",
    "\n",
    "# time horizon\n",
    "horizon = 30 # days\n",
    "\n",
    "# simulation repeats\n",
    "iterations = 10   "
   ]
  },
  {
   "cell_type": "markdown",
   "metadata": {},
   "source": [
    "### 2. Model\n",
    "\n",
    "Events - vectors that are designed to control the simulation state:\n",
    "\n",
    "- moments of occurrence of subsequent events\n",
    "- machines status:\n",
    "    - `W` - operating \n",
    "    - `Q` - waiting for the tools \n",
    "    - `R` - is being repaired\n",
    "- inactivity time\n"
   ]
  },
  {
   "cell_type": "code",
   "execution_count": 14,
   "metadata": {
    "scrolled": true
   },
   "outputs": [],
   "source": [
    "def model(horizon, avg_working_time, avg_repair_time, m, n, setup, events_distribution):\n",
    "    # setup - 1st scenario = \"L\" ; second scenario = \"S\"\n",
    "    \n",
    "    # time horizon in minutes\n",
    "    horizon = horizon * 24 * 60 \n",
    "    \n",
    "    # events - vector that changes the state of the simulation\n",
    "    if events_distribution == \"exp\":\n",
    "        events = list(np.random.exponential(avg_working_time, m))\n",
    "    elif events_distribution == \"gamma\":\n",
    "        events = list(np.random.gamma(2,avg_working_time, m))\n",
    "    \n",
    "    # current machine status\n",
    "    status = [\"W\"] * m\n",
    "\n",
    "    # t_start - determines the beginning of machine inactivity\n",
    "    t_start = [0] * m\n",
    "\n",
    "    # t_cum - cumulative idle time of the machine\n",
    "    t_cum = [0] * m\n",
    "\n",
    "    # tools_loc tools location - machine id or '-1' for standby\n",
    "    tools_loc = [-1] * n\n",
    "\n",
    "    # tools_occupied occupation time for a tool (per machine)\n",
    "    tools_occupied = [0] * n\n",
    "    \n",
    "    # simulation clock - the nearest task to be performed\n",
    "    t = min(events)\n",
    "    \n",
    "    # start simulation - iterating over events\n",
    "    while t <= horizon:\n",
    "        \n",
    "        # if tools are not occupied - move them to the workshop (standby position)\n",
    "        for i in range(n):\n",
    "            if tools_occupied[i] <= t:\n",
    "                tools_loc[i] = -1\n",
    "\n",
    "        # choose machine based on current event\n",
    "        machine = events.index(t)\n",
    "        \n",
    "        \n",
    "#         Event is always associated with the machine.\n",
    "#         If the event-machine is working (\"W\"), the next state might be:\n",
    "#           - \"R\" for being repaired if there is an available tool\n",
    "#           - \"Q\" as \"Queue\" if currently there are no tools available\n",
    "          \n",
    "#         Steps for working machines (\"W\"):\n",
    "#           1) update t_start vector with the time (t) when machine stopped working\n",
    "#           2) check if there is any tool available\n",
    "#              if not:\n",
    "#                2.1) update machine status with \"Q\" as it's waiting in a queue for the tool\n",
    "#                2.2) update events vector with the time the machine needs to wait for \n",
    "#                     the first available tool\n",
    "#              if there is an available tool:\n",
    "#                2.1) update machine status with \"R\" as it's being repaired\n",
    "#                2.2) update events vector with time estimate needed for repairing the machine \n",
    "#                     - depending on the setup (time needed for tool transportation + repair)\n",
    "#                2.3) update tools_loc vector with the index of the machine that is being repaired\n",
    "#                2.4) update tools_occupied vector with the time needed for the repair \n",
    "#                     (2*transportation + repair)\n",
    "        \n",
    "        if status[machine] == \"W\":\n",
    "            t_start[machine] = t\n",
    "            tools = - 1\n",
    "            for i in range(n):\n",
    "                if tools_loc[i] == -1:\n",
    "                    tools = i\n",
    "                    break\n",
    "            if tools == -1 :\n",
    "                status[machine] = \"Q\"\n",
    "                events[machine] = min(tools_occupied)\n",
    "            else:\n",
    "                status[machine] = \"R\"\n",
    "                if setup == \"L\":\n",
    "                    transport_time = 2 * (1 + machine)\n",
    "                elif setup == \"S\":\n",
    "                    transport_time =  3\n",
    "                else:\n",
    "                    print(\"Please choose one of the following: 'L' or 'S'!\")\n",
    "                    break\n",
    "                repair_time = np.random.gamma(3, avg_repair_time/3)\n",
    "                events[machine] += repair_time + transport_time\n",
    "                tools_loc[tools] = machine\n",
    "                tools_occupied[tools] += repair_time + 2 * transport_time\n",
    "\n",
    "        \n",
    "#         Steps for machine waiting for the tool in a queue (\"Q\")\n",
    "#           1) select an available tool\n",
    "#           2) update machine status with \"R\" as it's being repaired\n",
    "#           3) update events vector with time estimate needed for repairing the machine \n",
    "#              - depending on the setup (time needed for tool transportation + repair)\n",
    "#           4) update tools_loc vector with the index of the machine that is being repaired\n",
    "#           5) update tools_occupied vector with the time needed for the repair \n",
    "#              (2*transportation + repair)\n",
    "\n",
    "        elif status[machine] == \"Q\":\n",
    "            for i in range(n):\n",
    "                if tools_loc[i] == -1:\n",
    "                    tools = i\n",
    "                    break\n",
    "            status[machine] = \"R\"\n",
    "            if setup == \"L\":\n",
    "                transport_time = 2 * (1 + machine)\n",
    "            elif setup == \"G\":\n",
    "                transport_time =  3\n",
    "            else:\n",
    "                print(\"Please choose one of the following: 'L' or 'S'!\")\n",
    "                break\n",
    "            repair_time = np.random.gamma(3, avg_repair_time/3)\n",
    "            events[machine] += repair_time + transport_time\n",
    "            tools_loc[tools] = machine\n",
    "            tools_occupied[tools] += repair_time + 2 * transport_time \n",
    "            \n",
    "        \n",
    "#         Steps for machine being repaired (\"R\")\n",
    "#           1) update machine status with \"W\" for working\n",
    "#           3) update events vector with the next inactivity time estimate\n",
    "#           4) update t_cum with machine inactivity (t - t_start[machine])\n",
    "            \n",
    "        else:\n",
    "            status[machine] = \"W\"\n",
    "            events[machine] += np.random.exponential(avg_working_time)\n",
    "            t_cum[machine] += t - t_start[machine]\n",
    "        \n",
    "        # new nearest event\n",
    "        t = min(events)\n",
    "        \n",
    "    # result - a list of cumulated inactivity time for each of the machines\n",
    "    return (t_cum)"
   ]
  },
  {
   "cell_type": "markdown",
   "metadata": {},
   "source": [
    "### 3. `Run()` function"
   ]
  },
  {
   "cell_type": "code",
   "execution_count": 15,
   "metadata": {},
   "outputs": [],
   "source": [
    "def run_model (iterations, horizon, avg_working_time, avg_repair_time, m, n, setup, minute_cost, events_distribution=\"exp\"):\n",
    "    avg_t_cum = []\n",
    "    for i in range (iterations):\n",
    "        print(f\"iteration no {i+1}\")\n",
    "        avg_t_cum.append(model( horizon, avg_working_time, avg_repair_time, m, n, setup, events_distribution))\n",
    "    \n",
    "    result = list(map(np.mean, np.transpose(avg_t_cum)))\n",
    "    costs = np.array(list(map(lambda x: x * minute_cost, result)))\n",
    "    return result, costs\n"
   ]
  },
  {
   "cell_type": "code",
   "execution_count": 16,
   "metadata": {},
   "outputs": [],
   "source": [
    "minute_cost = 1.5"
   ]
  },
  {
   "cell_type": "code",
   "execution_count": 17,
   "metadata": {},
   "outputs": [],
   "source": [
    "dist_use = \"exp\""
   ]
  },
  {
   "cell_type": "markdown",
   "metadata": {},
   "source": [
    "### 3. Simulation results"
   ]
  },
  {
   "cell_type": "code",
   "execution_count": 18,
   "metadata": {
    "scrolled": true
   },
   "outputs": [
    {
     "name": "stdout",
     "output_type": "stream",
     "text": [
      "iteration no 1\n",
      "iteration no 2\n",
      "iteration no 3\n",
      "iteration no 4\n",
      "iteration no 5\n",
      "iteration no 6\n",
      "iteration no 7\n",
      "iteration no 8\n",
      "iteration no 9\n",
      "iteration no 10\n",
      "[11918.46606451 12807.06800138 14324.58960237 15293.97941464\n",
      " 15938.29293642 17337.53588141]\n"
     ]
    }
   ],
   "source": [
    "l_mins, l_costs = run_model(iterations, horizon, avg_working_time, avg_repair_time, m, n, \"L\", minute_cost, dist_use)\n",
    "\n",
    "print (l_costs)"
   ]
  },
  {
   "cell_type": "code",
   "execution_count": 19,
   "metadata": {
    "scrolled": true
   },
   "outputs": [
    {
     "name": "stdout",
     "output_type": "stream",
     "text": [
      "iteration no 1\n",
      "iteration no 2\n",
      "iteration no 3\n",
      "iteration no 4\n",
      "iteration no 5\n",
      "iteration no 6\n",
      "iteration no 7\n",
      "iteration no 8\n",
      "iteration no 9\n",
      "iteration no 10\n",
      "[12417.41736232 12339.47797773 12354.70195425 12377.49544382\n",
      " 12325.23764115 12304.09138527]\n"
     ]
    }
   ],
   "source": [
    "s_mins, s_costs = run_model(iterations, horizon, avg_working_time, avg_repair_time, m, n, \"S\", minute_cost, dist_use)\n",
    "\n",
    "print (s_costs)"
   ]
  },
  {
   "cell_type": "code",
   "execution_count": 20,
   "metadata": {
    "scrolled": true
   },
   "outputs": [
    {
     "data": {
      "text/plain": [
       "array([  498.95129781,  -467.59002365, -1969.88764812, -2916.48397082,\n",
       "       -3613.05529526, -5033.44449614])"
      ]
     },
     "execution_count": 20,
     "metadata": {},
     "output_type": "execute_result"
    }
   ],
   "source": [
    "s_costs - l_costs"
   ]
  },
  {
   "cell_type": "code",
   "execution_count": 21,
   "metadata": {},
   "outputs": [
    {
     "data": {
      "text/plain": [
       "-2250.251689363808"
      ]
     },
     "execution_count": 21,
     "metadata": {},
     "output_type": "execute_result"
    }
   ],
   "source": [
    "np. mean (s_costs - l_costs)"
   ]
  },
  {
   "cell_type": "code",
   "execution_count": 22,
   "metadata": {},
   "outputs": [
    {
     "name": "stdout",
     "output_type": "stream",
     "text": [
      "[8278.278241549126, 8226.318651820657, 8236.467969498295, 8251.663629216202, 8216.825094101108, 8202.727590181226]\n",
      "[7945.644043009399, 8538.045334254422, 9549.726401579235, 10195.986276426327, 10625.528624276674, 11558.35725427579]\n"
     ]
    }
   ],
   "source": [
    "print(s_mins)\n",
    "print(l_mins)"
   ]
  },
  {
   "cell_type": "code",
   "execution_count": 23,
   "metadata": {},
   "outputs": [
    {
     "data": {
      "text/plain": [
       "8235.380196061102"
      ]
     },
     "execution_count": 23,
     "metadata": {},
     "output_type": "execute_result"
    }
   ],
   "source": [
    "np. mean(s_mins)"
   ]
  },
  {
   "cell_type": "code",
   "execution_count": 24,
   "metadata": {},
   "outputs": [
    {
     "data": {
      "text/plain": [
       "9735.547988970307"
      ]
     },
     "execution_count": 24,
     "metadata": {},
     "output_type": "execute_result"
    }
   ],
   "source": [
    "np. mean (l_mins)"
   ]
  }
 ],
 "metadata": {
  "kernelspec": {
   "display_name": "Python 3",
   "language": "python",
   "name": "python3"
  },
  "language_info": {
   "codemirror_mode": {
    "name": "ipython",
    "version": 3
   },
   "file_extension": ".py",
   "mimetype": "text/x-python",
   "name": "python",
   "nbconvert_exporter": "python",
   "pygments_lexer": "ipython3",
   "version": "3.6.8"
  }
 },
 "nbformat": 4,
 "nbformat_minor": 4
}
