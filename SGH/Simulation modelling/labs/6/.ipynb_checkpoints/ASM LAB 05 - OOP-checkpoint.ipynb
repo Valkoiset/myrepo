{
 "cells": [
  {
   "cell_type": "markdown",
   "metadata": {},
   "source": [
    "# Advanced Simulation Modeling\n",
    "\n",
    "contact: annaszczurek2@gmail.com\n",
    "\n",
    "## Object-oriented programming"
   ]
  },
  {
   "cell_type": "markdown",
   "metadata": {},
   "source": [
    "## 1. Programming paradigms\n",
    "\n",
    "*source: [Wikipedia - Programming_paradigm](https://en.wikipedia.org/wiki/Programming_paradigm), \n",
    "[Wikipedia - Imperative_programming](https://en.wikipedia.org/wiki/Imperative_programming), \n",
    "[Wikipedia - Procedural_programming](https://en.wikipedia.org/wiki/Procedural_programming), \n",
    "[Wikipedia - Declarative_programming](https://en.wikipedia.org/wiki/Declarative_programming), \n",
    "[Wikipedia - Functional_programming](https://en.wikipedia.org/wiki/Functional_programming), \n",
    "[Wikipedia - Logic_programming](https://en.wikipedia.org/wiki/Logic_programming), \n",
    "[Wikipedia - Mathematical_optimization](https://en.wikipedia.org/wiki/Mathematical_optimization)*\n",
    "\n",
    "`Programming paradigms` are a way to classify programming languages based on their features. Languages can be classified into multiple paradigms.\n",
    "\n",
    "Some paradigms are concerned mainly with implications for the execution model of the language, such as allowing side effects, or whether the sequence of operations is defined by the execution model. Other paradigms are concerned mainly with the way that code is organized, such as grouping a code into units along with the state that is modified by the code. Yet others are concerned mainly with the style of syntax and grammar.\n",
    "\n",
    "Common programming paradigms include:\n",
    "\n",
    "- `imperative` in which the programmer instructs the machine how to change its state,\n",
    "    - `procedural` which groups instructions into procedures,\n",
    "    - `object-oriented` which groups instructions together with the part of the state they operate on,\n",
    "- `declarative` in which the programmer merely declares properties of the desired result, but not how to compute it\n",
    "    - `functional` in which the desired result is declared as the value of a series of function applications,\n",
    "    - `logic` in which the desired result is declared as the answer to a question about a system of facts and rules,\n",
    "    - `mathematical` in which the desired result is declared as the solution of an optimization problem\n",
    "\n",
    "In computer science, `imperative programming` uses statements that change a program's state and focuses on describing how a program operates. An imperative program consists of commands for the computer to perform. The focus of `procedural programming` is to break down a programming task into a collection of variables, data structures, and subroutines (also termed procedures, functions), whereas in `object-oriented programming` it is to break down a programming task into objects that expose behavior (methods) and data (members or attributes) using interfaces. \n",
    "\n",
    "In computer science, `declarative programming` is a style of building the structure and elements of computer programs,that expresses the logic of a computation without describing its control flow (the how being left up to the language's implementation). In `functional programming` programs are constructed by applying and composing functions. It is a declarative programming paradigm in which function definitions are trees of expressions that each return a value, rather than a sequence of imperative statements which change the state of the program or world. `Logic programming` is largely based on formal logic. Any program written in a logic programming language is a set of sentences in a logical form, expressing facts and rules about some problem domain. `Mathematical programming` is the selection of a best element (with regard to some criterion) from some set of available alternatives.\n",
    "\n"
   ]
  },
  {
   "cell_type": "markdown",
   "metadata": {},
   "source": [
    "## 2. Object-oriented programming\n",
    "\n",
    "*source: [Wikipedia - Object-oriented_programming](https://en.wikipedia.org/wiki/Object-oriented_programming)*\n",
    "\n",
    "`Object-oriented programming` (OOP) is a programming paradigm based on the concept of `objects` which can contain data, in the form of `fields` (often known as attributes or properties), and code, in the form of `procedures` (often known as methods). A feature of objects is an object's procedures that can access and often modify the data fields of the object with which they are associated (objects have a notion of \"this\" or \"self\"). In OOP, computer programs are designed by making them out of objects that interact with one another. OOP languages are diverse, but the most popular ones are class-based, meaning that objects are instances of classes, which also determine their types.\n",
    "\n"
   ]
  },
  {
   "cell_type": "markdown",
   "metadata": {},
   "source": [
    "## 3. Python as an object-oriented programming language\n",
    "\n",
    "*source: [The Python Tutorial - Classes](https://docs.python.org/3/tutorial/classes.html), [Tutorials Point- Python - Object Oriented](https://www.tutorialspoint.com/python/python_classes_objects.htm), [Medium - Python 101: Object Oriented Programming part 2](https://medium.com/the-renaissance-developer/python-101-object-oriented-programming-part-2-8e0db3ddd531), [Real Python - Primer on python decorators](https://realpython.com/primer-on-python-decorators/)*\n",
    "\n",
    "Classes provide a means of bundling data and functionality together. Creating a new class creates a new type of object, allowing new instances of that type to be made. Each class instance can have attributes attached to it for maintaining its state. Class instances can also have methods (defined by its class) for modifying its state.\n"
   ]
  },
  {
   "cell_type": "markdown",
   "metadata": {},
   "source": [
    "### 3.1. Python Scopes and Namespaces\n",
    "\n",
    "A `namespace` is a mapping from names to objects. Most namespaces are currently implemented as Python dictionaries, e.g.: the set of built-in names (containing functions such as abs(), and built-in exception names); the global names in a module; and the local names in a function invocation. In a sense the set of attributes of an object also form a namespace. There is absolutely no relation between names in different namespaces. \n",
    "\n",
    "Namespaces are created at different moments and have different lifetimes. The namespace containing the built-in names is created when the Python interpreter starts up, and is never deleted. The global namespace for a module is created when the module definition is read in. The local namespace for a function is created when the function is called, and deleted when the function returns or raises an exception that is not handled within the function. \n",
    "\n",
    "References to names in modules are attribute references: in the expression modname.funcname, modname is a module object and funcname is an attribute of it. In this case there happens to be a straightforward mapping between the module’s attributes and the global names defined in the module: they share the same namespace!\n",
    "\n",
    "A `scope` is a textual region of a Python program where a namespace is directly accessible. “Directly accessible” here means that an unqualified reference to a name attempts to find the name in the namespace. `'__main__` is the name of the scope in which top-level code executes. The `__name__` is a special Python variable as it gets its value depending on how we execute the containing script. \n",
    "\n",
    "Although scopes are determined statically, they are used dynamically. At any time during execution, there are at least three nested scopes whose namespaces are directly accessible:\n",
    "- the innermost scope, which is searched first, contains the local names\n",
    "- the scopes of any enclosing functions, which are searched starting with the nearest enclosing scope\n",
    "- the next-to-last scope contains the current module’s global names\n",
    "- the outermost scope (searched last) is the namespace containing built-in names\n",
    "\n",
    "E.g.: if a name is declared global, then all references and assignments go directly to the middle scope containing the module’s global names."
   ]
  },
  {
   "cell_type": "code",
   "execution_count": null,
   "metadata": {},
   "outputs": [],
   "source": [
    "def scope_test():\n",
    "    def do_local():\n",
    "        spam = \"local spam\"\n",
    "\n",
    "    def do_nonlocal():\n",
    "        nonlocal spam\n",
    "        spam = \"nonlocal spam\"\n",
    "\n",
    "    def do_global():\n",
    "        global spam\n",
    "        spam = \"global spam\"\n",
    "\n",
    "    spam = \"test spam\"\n",
    "    do_local()\n",
    "    print(\"After local assignment:\", spam)\n",
    "    do_nonlocal()\n",
    "    print(\"After nonlocal assignment:\", spam)\n",
    "    do_global()\n",
    "    print(\"After global assignment:\", spam)\n",
    "\n",
    "scope_test()\n",
    "print(\"In global scope:\", spam)"
   ]
  },
  {
   "cell_type": "markdown",
   "metadata": {},
   "source": [
    "### 3.2. Classes\n",
    "\n",
    "`Class` − A user-defined prototype for an object that defines a set of attributes that characterize any object of the class. The attributes are data members (class variables and instance variables) and methods, accessed via dot notation.\n",
    "\n",
    "`Instance` − An individual object of a certain class. An object obj that belongs to a class Circle, for example, is an instance of the class Circle.\n",
    "\n",
    "`Class variable` − A variable that is shared by all instances of a class. Class variables are defined within a class but outside any of the class's methods. Class variables are not used as frequently as instance variables are.\n",
    "\n",
    "`Instance variable` − A variable that is defined inside a method and belongs only to the current instance of a class.\n",
    "\n",
    "#### Creating class object\n"
   ]
  },
  {
   "cell_type": "code",
   "execution_count": null,
   "metadata": {},
   "outputs": [],
   "source": [
    "class Employee:\n",
    "    \"\"\"Common base class for all employees\"\"\"\n",
    "    empCount = 0 # class attribute\n",
    "\n",
    "    def __init__(self, name, salary):\n",
    "        self.name = name\n",
    "        self.salary = salary\n",
    "        Employee.empCount += 1\n",
    "   \n",
    "    def displayCount(self):\n",
    "        print (\"Total Employee %d\" % Employee.empCount)\n",
    "\n",
    "    def displayEmployee(self):\n",
    "        print (\"Name : \", self.name,  \", Salary: \", self.salary)"
   ]
  },
  {
   "cell_type": "markdown",
   "metadata": {},
   "source": [
    "#### Creating instance object"
   ]
  },
  {
   "cell_type": "code",
   "execution_count": null,
   "metadata": {},
   "outputs": [],
   "source": [
    "# This is how we create \n",
    "emp1 = Employee(\"Zara\", 2000)\n",
    "emp2 = Employee(\"Manni\", 5000)"
   ]
  },
  {
   "cell_type": "markdown",
   "metadata": {},
   "source": [
    "#### Accessing Attributes"
   ]
  },
  {
   "cell_type": "code",
   "execution_count": null,
   "metadata": {},
   "outputs": [],
   "source": [
    "emp1.displayEmployee()\n",
    "emp2.displayCount()"
   ]
  },
  {
   "cell_type": "code",
   "execution_count": null,
   "metadata": {},
   "outputs": [],
   "source": [
    "emp1.age = 7\n",
    "emp2.age = 8\n",
    "del emp2.age"
   ]
  },
  {
   "cell_type": "code",
   "execution_count": null,
   "metadata": {},
   "outputs": [],
   "source": [
    "hasattr(emp1, 'age')\n",
    "getattr(emp1, 'age')\n",
    "setattr(emp1, 'age', 10)\n",
    "delattr(emp1, 'age')"
   ]
  },
  {
   "cell_type": "markdown",
   "metadata": {},
   "source": [
    "#### Methods"
   ]
  },
  {
   "cell_type": "code",
   "execution_count": null,
   "metadata": {},
   "outputs": [],
   "source": [
    "def displayName(self):\n",
    "    print (f\"Employee name is {self.name}\")\n",
    "    \n",
    "Employee.displayName = displayName\n",
    "emp1 = Employee(\"Zara\", 2000)\n",
    "emp1.displayName()"
   ]
  },
  {
   "cell_type": "code",
   "execution_count": null,
   "metadata": {},
   "outputs": [],
   "source": [
    "emp2.displayName()"
   ]
  },
  {
   "cell_type": "markdown",
   "metadata": {},
   "source": [
    "#### Built-In Class Attributes\n",
    "\n",
    "Every Python class keeps the following built-in attributes and they can be accessed using dot operator like any other attribute\n",
    "- `__doc__` − Class documentation string or none, if undefined.\n",
    "- `__name__` − Class name.\n",
    "- `__module__` - Module name in which the class is defined. This attribute is `__main__` in interactive mode.\n",
    "- `__bases__` - A possibly empty tuple containing the base classes, in the order of their occurrence in the base class list.\n",
    "- `__dict__` − Dictionary containing the class's namespace.\n"
   ]
  },
  {
   "cell_type": "code",
   "execution_count": null,
   "metadata": {},
   "outputs": [],
   "source": [
    "print(\"Employee.__doc__:\", Employee.__doc__)\n",
    "print(\"Employee.__name__:\", Employee.__name__)\n",
    "print(\"Employee.__module__:\", Employee.__module__)\n",
    "print(\"Employee.__bases__:\", Employee.__bases__)\n",
    "print(\"Employee.__dict__:\", Employee.__dict__)"
   ]
  },
  {
   "cell_type": "markdown",
   "metadata": {},
   "source": [
    "#### Destroying Objects\n",
    "\n",
    "Python deletes unneeded objects (built-in types or class instances) automatically to free the memory space. The process by which Python periodically reclaims blocks of memory that no longer are in use is termed Garbage Collection.\n",
    "\n",
    "Python's garbage collector runs during program execution and is triggered when an object's reference count reaches zero. An object's reference count changes as the number of aliases that point to it changes.\n",
    "\n",
    "An object's reference count increases when it is assigned a new name or placed in a container (list, tuple, or dictionary). The object's reference count decreases when it's deleted with del, its reference is reassigned, or its reference goes out of scope. When an object's reference count reaches zero, Python collects it automatically.\n",
    "\n",
    "A class can implement the special method \\_\\_del\\_\\_(), called a destructor, that is invoked when the instance is about to be destroyed."
   ]
  },
  {
   "cell_type": "code",
   "execution_count": null,
   "metadata": {},
   "outputs": [],
   "source": [
    "a = 40  ; print(id(a))     # Create object <40>\n",
    "b = a   ; print(id(b))     # Increase ref. count  of <40> \n",
    "c = [b] ; print(id(c), id(c[0]))    # Increase ref. count  of <40> \n",
    "\n",
    "del a       # Decrease ref. count  of <40>\n",
    "b = 100     # Decrease ref. count  of <40> \n",
    "c[0] = -1   # Decrease ref. count  of <40> "
   ]
  },
  {
   "cell_type": "code",
   "execution_count": null,
   "metadata": {},
   "outputs": [],
   "source": [
    "class Point:\n",
    "    def __init__( self, x=0, y=0):\n",
    "        self.x = x\n",
    "        self.y = y\n",
    "    \n",
    "    def __del__(self):\n",
    "        print(f\"{self.__class__.__name__} destroyed\")\n",
    "\n",
    "pt1 = Point()\n",
    "pt2 = pt1\n",
    "pt3 = pt1\n",
    "print(id(pt1), id(pt2), id(pt3))\n",
    "del pt1\n",
    "del pt2\n",
    "del pt3"
   ]
  },
  {
   "cell_type": "markdown",
   "metadata": {},
   "source": [
    "#### Class Inheritance\n",
    "\n",
    "Certain objects have some things in common: their behavior and characteristics.\n",
    "Classes can inherit common characteristics (data) and behavior (methods) from another class."
   ]
  },
  {
   "cell_type": "code",
   "execution_count": null,
   "metadata": {},
   "outputs": [],
   "source": [
    "class Car:\n",
    "    def __init__(self, number_of_wheels, seating_capacity, maximum_velocity):\n",
    "        self.number_of_wheels = number_of_wheels\n",
    "        self.seating_capacity = seating_capacity\n",
    "        self.maximum_velocity = maximum_velocity\n",
    "        \n",
    "my_car = Car(4, 5, 250)\n",
    "print(my_car.number_of_wheels)\n",
    "print(my_car.seating_capacity)\n",
    "print(my_car.maximum_velocity)\n",
    "\n"
   ]
  },
  {
   "cell_type": "code",
   "execution_count": null,
   "metadata": {},
   "outputs": [],
   "source": [
    "class ElectricCar(Car):\n",
    "    def __init__(self, number_of_wheels, seating_capacity, maximum_velocity):\n",
    "        Car.__init__(self, number_of_wheels, seating_capacity, maximum_velocity)\n",
    "        self.range = 100\n",
    "\n",
    "my_electric_car = ElectricCar(4, 2, 250)\n",
    "print(my_electric_car.number_of_wheels)\n",
    "print(my_electric_car.seating_capacity)\n",
    "print(my_electric_car.maximum_velocity)\n",
    "print(my_electric_car.range)"
   ]
  },
  {
   "cell_type": "code",
   "execution_count": null,
   "metadata": {},
   "outputs": [],
   "source": [
    "issubclass(ElectricCar, Car)"
   ]
  },
  {
   "cell_type": "code",
   "execution_count": null,
   "metadata": {},
   "outputs": [],
   "source": [
    "isinstance(my_electric_car, Car)"
   ]
  },
  {
   "cell_type": "code",
   "execution_count": null,
   "metadata": {},
   "outputs": [],
   "source": [
    "tuple.mro()"
   ]
  },
  {
   "cell_type": "code",
   "execution_count": null,
   "metadata": {},
   "outputs": [],
   "source": [
    "Car.mro()"
   ]
  },
  {
   "cell_type": "code",
   "execution_count": null,
   "metadata": {},
   "outputs": [],
   "source": [
    "ElectricCar.mro()"
   ]
  },
  {
   "cell_type": "code",
   "execution_count": null,
   "metadata": {},
   "outputs": [],
   "source": [
    "ElectricCar.__base__"
   ]
  },
  {
   "cell_type": "markdown",
   "metadata": {},
   "source": [
    "#### Overriding Methods"
   ]
  },
  {
   "cell_type": "code",
   "execution_count": null,
   "metadata": {},
   "outputs": [],
   "source": [
    "class Parent:\n",
    "    def myMethod(self):\n",
    "        print('Calling parent method')\n",
    "\n",
    "class Child(Parent):\n",
    "    def myMethod(self):\n",
    "        print('Calling child method')\n",
    "\n",
    "c = Child()\n",
    "c.myMethod()"
   ]
  },
  {
   "cell_type": "markdown",
   "metadata": {},
   "source": [
    "#### Base Overloading Methods\n",
    "\n",
    "- `__init__` − Constructor (with any optional arguments) - sample Call : obj = className(args).\n",
    "- `__del__` − Destructor, deletes an object - sample Call : del obj.\n",
    "- `__repr__` − Evaluable string representation - sample Call : repr(obj).\n",
    "- `__str__` − Printable string representation - sample Call : str(obj)."
   ]
  },
  {
   "cell_type": "code",
   "execution_count": null,
   "metadata": {
    "scrolled": true
   },
   "outputs": [],
   "source": [
    "class Vector:\n",
    "    def __init__(self, a, b):\n",
    "        self.a = a\n",
    "        self.b = b\n",
    "        \n",
    "    def __str__(self):\n",
    "        return 'Vector (%d, %d)' % (self.a, self.b)\n",
    "    \n",
    "    def __add__(self, other_obj):\n",
    "        if isinstance(other_obj, Vector):\n",
    "            return Vector(self.a + other_obj.a, self.b + other_obj.b)         \n",
    "#         elif type(other_obj) == tuple:             \n",
    "#             return Vector(self.a + other_obj[0], self.b + other_obj[1])\n",
    "        else:\n",
    "            raise NotImplementedError()\n",
    "            \n",
    "\n",
    "v1 = Vector(2, 10)\n",
    "v2 = Vector(5, -2)\n",
    "print(v1.__add__(v2))\n",
    "print(v1 + v2)\n",
    "# print(v1 + (1,2))\n",
    "\n",
    "# If in \"v1 + v2\" expression v1 is an instance of class Vector, then Python checks Vector class definition. \n",
    "# If Vector includes __add__ method then it will be called with v1.__add__(v2), otherwise we will get an error message"
   ]
  },
  {
   "cell_type": "code",
   "execution_count": null,
   "metadata": {},
   "outputs": [],
   "source": [
    "print(v1.__add__(v2))"
   ]
  },
  {
   "cell_type": "markdown",
   "metadata": {},
   "source": [
    "#### Private Variables\n",
    "\n",
    "`Private` instance variables that cannot be accessed except from inside an object don’t exist in Python. However, there is a convention that is followed by most Python code: a name prefixed with an underscore (e.g. _spam) should be treated as a non-public part of the API (whether it is a function, a method or a data member). It should be considered an implementation detail and subject to change without notice.\n",
    "\n",
    "Since there is a valid use-case for class-private members (namely to avoid name clashes of names with names defined by subclasses), there is limited support for such a mechanism, called `name mangling`. Any identifier of the form `__spam` (at least two leading underscores, at most one trailing underscore) is textually replaced with `_classname__spam`, where classname is the current class name with leading underscore(s) stripped. This mangling is done without regard to the syntactic position of the identifier, as long as it occurs within the definition of a class.\n"
   ]
  },
  {
   "cell_type": "code",
   "execution_count": null,
   "metadata": {
    "scrolled": true
   },
   "outputs": [],
   "source": [
    "class JustCounter:\n",
    "    __secretCount = 0\n",
    "    \n",
    "    def count(self):\n",
    "        self.__secretCount += 1\n",
    "        print(self.__secretCount)\n",
    "        \n",
    "counter = JustCounter()\n",
    "counter.count()\n",
    "counter.count()\n",
    "print(counter.__secretCount)"
   ]
  },
  {
   "cell_type": "code",
   "execution_count": null,
   "metadata": {},
   "outputs": [],
   "source": [
    "counter._JustCounter__secretCount"
   ]
  },
  {
   "cell_type": "code",
   "execution_count": null,
   "metadata": {},
   "outputs": [],
   "source": [
    "class Person:\n",
    "    def __init__(self, first_name, email):\n",
    "        self.first_name = first_name\n",
    "        self.__email = email\n",
    "        \n",
    "    def get_email(self):\n",
    "        return self.__email\n",
    "    \n",
    "    def update_email(self, new_email):\n",
    "        self.__email = new_email\n",
    "\n",
    "p = Person('Anna', 'anna@mail.com')\n",
    "print(p.__email())"
   ]
  },
  {
   "cell_type": "code",
   "execution_count": null,
   "metadata": {},
   "outputs": [],
   "source": [
    "p._Person__email"
   ]
  },
  {
   "cell_type": "code",
   "execution_count": null,
   "metadata": {},
   "outputs": [],
   "source": [
    "p.get_email()"
   ]
  },
  {
   "cell_type": "code",
   "execution_count": null,
   "metadata": {},
   "outputs": [],
   "source": [
    "p.update_email('new_anna@mail.com')\n",
    "p.get_email()"
   ]
  },
  {
   "cell_type": "markdown",
   "metadata": {},
   "source": [
    "#### Decorators\n",
    "\n",
    "Decorators add functionality to an existing code. Getters and setters can be defined with `@property` decorator"
   ]
  },
  {
   "cell_type": "code",
   "execution_count": null,
   "metadata": {},
   "outputs": [],
   "source": [
    "def my_decorator(func):\n",
    "    def wrapper():\n",
    "        print(\"Something is happening before the function is called.\")\n",
    "        func()\n",
    "        print(f\"func id - {id(func)}\")\n",
    "        print(\"Something is happening after the function is called.\")\n",
    "    print(f\"wrapper id - {id(wrapper)}\")\n",
    "    return wrapper\n",
    "print(f\"my_decorator id - {id(my_decorator)}\")\n",
    "\n",
    "def say_whee():\n",
    "    print(\"Whee!\")\n",
    "print(f\"say_whee id - {id(say_whee)}\")\n",
    "\n",
    "say_whee = my_decorator(say_whee)\n",
    "print(f\"say_whee new id - {id(say_whee)}\")\n",
    "\n",
    "say_whee()"
   ]
  },
  {
   "cell_type": "code",
   "execution_count": null,
   "metadata": {},
   "outputs": [],
   "source": [
    "print(id(say_whee))\n",
    "print(id(my_decorator))\n",
    "print(id(say_whee))"
   ]
  },
  {
   "cell_type": "code",
   "execution_count": null,
   "metadata": {},
   "outputs": [],
   "source": [
    "def my_decorator(func):\n",
    "    def wrapper():\n",
    "        print(\"Something is happening before the function is called.\")\n",
    "        func()\n",
    "        print(\"Something is happening after the function is called.\")\n",
    "    return wrapper\n",
    "\n",
    "@my_decorator\n",
    "def say_whee():\n",
    "    print(\"Whee!\")\n",
    "    \n",
    "say_whee()"
   ]
  },
  {
   "cell_type": "code",
   "execution_count": null,
   "metadata": {
    "scrolled": true
   },
   "outputs": [],
   "source": [
    "class Person:\n",
    "    def __init__(self, first_name, email):\n",
    "        self.first_name = first_name\n",
    "        self.__email = email\n",
    "\n",
    "    @property\n",
    "    def email(self):\n",
    "        return self.__email\n",
    "    \n",
    "    @email.setter\n",
    "    def email(self, new_email):\n",
    "        self.__email = new_email\n",
    "\n",
    "    \n",
    "p = Person('Anna', 'anna@mail.com')\n",
    "print(p.email)\n",
    "p.email = 'anna@new_mail.com'\n",
    "print(p.email)\n",
    "print(p.__email)"
   ]
  },
  {
   "cell_type": "code",
   "execution_count": null,
   "metadata": {},
   "outputs": [],
   "source": [
    "p._Person__email"
   ]
  },
  {
   "cell_type": "markdown",
   "metadata": {},
   "source": [
    "## 4. Hands-on\n",
    "\n",
    "### 4.1\n",
    "\n",
    "Based on the `Shape` parent class, propose the implementation of the following classes:\n",
    "\n",
    "- `Rectangle` class representing any rectangle, \n",
    "- `Square` class representing any square and inheriting from the `Rectangle`.\n",
    "\n",
    "```python\n",
    "class Shape:\n",
    "    def __init__(self):\n",
    "        raise NotImplementedError()\n",
    "    def area(self):\n",
    "        '''calculates shape area'''\n",
    "        raise NotImplementedError(\"area() must be implemented\")\n",
    "    def perimeter(self):\n",
    "        '''calculates shape perimeter'''\n",
    "        raise NotImplementedError(\"perimeter() must be implemented\")\n",
    "```"
   ]
  },
  {
   "cell_type": "code",
   "execution_count": null,
   "metadata": {},
   "outputs": [],
   "source": [
    "class Rectangle:\n",
    "    def __init__(self, length, width):\n",
    "        self.length = length\n",
    "        self.width = width\n",
    "        \n",
    "    def area(self):\n",
    "         return self.length * self.width\n",
    "    \n",
    "    def perimeter(self):\n",
    "        return 2 * (self.length + self.width)\n",
    "    \n",
    "class Square(Rectangle):\n",
    "    def __init__(self, side):\n",
    "        super().__init__(side, side)"
   ]
  },
  {
   "cell_type": "code",
   "execution_count": null,
   "metadata": {},
   "outputs": [],
   "source": [
    "r = Rectangle(10, 50); print(r.area(), r.perimeter())\n",
    "s = Square(50); print(s.area(), s.perimeter())"
   ]
  },
  {
   "cell_type": "markdown",
   "metadata": {},
   "source": [
    "### 4.2\n",
    "\n",
    "Write class representing a `bank account` which supports the operations of `withdrawal`, `deposit` and `checking the account balance`. When creating an account, it is possible to pay a deposit."
   ]
  },
  {
   "cell_type": "code",
   "execution_count": null,
   "metadata": {},
   "outputs": [],
   "source": [
    "class BankAccount:\n",
    "    def __init__(self, initial_balance = 0):\n",
    "        self.balance = initial_balance\n",
    "        \n",
    "    def deposit(self, deposit_amount):\n",
    "        self.balance += deposit_amount\n",
    "        \n",
    "    def withdraw(self, withdraw_amount):\n",
    "        self.balance -= withdraw_amount\n",
    "        \n",
    "    def check_acct_balance(self):\n",
    "        print('Account balance: {}'.format(self.balance))\n"
   ]
  },
  {
   "cell_type": "code",
   "execution_count": null,
   "metadata": {},
   "outputs": [],
   "source": [
    "b = BankAccount()\n",
    "b.check_acct_balance()\n",
    "b.deposit(20)\n",
    "b.check_acct_balance()\n",
    "b.withdraw(100)\n",
    "b.check_acct_balance()"
   ]
  },
  {
   "cell_type": "markdown",
   "metadata": {},
   "source": [
    "### 4.3\n",
    "\n",
    "Write a class named `Pet`, which include 3 attributes: `name`, `kind`, `speak` and the following methods:\n",
    "\n",
    "- `get_name` - returns pet's name\n",
    "- `get_kind` - returns pet's kind\n",
    "- `add_tricks` - takes pet's various tricks as an argument and adds them to pet's tricks list\n",
    "- `get_tricks` - returns a list of tricks a pet can do\n",
    "- `speaks` - returns what a pet says\n",
    "\n",
    "Then create two classes based on it: `Dog` and `Cat`"
   ]
  },
  {
   "cell_type": "code",
   "execution_count": null,
   "metadata": {},
   "outputs": [],
   "source": [
    "class Pet:\n",
    "    def __init__(self, name, kind, speak):\n",
    "        self.name = name\n",
    "        self.kind = kind\n",
    "        self.speak = speak\n",
    "        self.tricks = []\n",
    "        \n",
    "    def get_name(self):\n",
    "        return self.name\n",
    "    \n",
    "    def get_kind(self):\n",
    "        return '{} is a {}'.format(self.name, self.kind)\n",
    "    \n",
    "    def get_tricks(self):\n",
    "        return self.tricks\n",
    "    \n",
    "    def speaks(self):\n",
    "        return \"{} just does a '{}, {}' \".format(self.name, self.speak, self.speak)\n",
    "        \n",
    "    def add_trick(self, trick):\n",
    "        self.tricks.append(trick)\n",
    "        \n",
    "        "
   ]
  },
  {
   "cell_type": "code",
   "execution_count": null,
   "metadata": {},
   "outputs": [],
   "source": [
    "Buddy = Pet(\"Buddy\", \"Dog\", \"woof\")\n",
    "Buddy.add_trick('roll over')\n",
    "Buddy.add_trick('play dead')\n",
    "\n",
    "Carrie = Pet(\"Carrie\", \"Cat\", \"meow\")\n",
    "Carrie.add_trick('jump high')\n",
    "Carrie.add_trick('being cute')"
   ]
  },
  {
   "cell_type": "code",
   "execution_count": null,
   "metadata": {},
   "outputs": [],
   "source": [
    "class Dog(Pet):\n",
    "    def __init__(self, name):\n",
    "        super().__init__(name, \"Dog\", \"woah\")\n",
    "        \n",
    "class Cat(Pet):\n",
    "    def __init__(self, name):\n",
    "        super().__init__(name, \"Cat\", \"meow\")"
   ]
  },
  {
   "cell_type": "code",
   "execution_count": null,
   "metadata": {},
   "outputs": [],
   "source": [
    "Buddy = Dog(\"Buddy\")\n",
    "Buddy.add_trick('roll over')\n",
    "Buddy.add_trick('play dead')\n",
    "\n",
    "Carrie = Cat(\"Carrie\")\n",
    "Carrie.add_trick('jump high')\n",
    "Carrie.add_trick('being cute')"
   ]
  },
  {
   "cell_type": "code",
   "execution_count": null,
   "metadata": {},
   "outputs": [],
   "source": []
  }
 ],
 "metadata": {
  "kernelspec": {
   "display_name": "Python 3",
   "language": "python",
   "name": "python3"
  },
  "language_info": {
   "codemirror_mode": {
    "name": "ipython",
    "version": 3
   },
   "file_extension": ".py",
   "mimetype": "text/x-python",
   "name": "python",
   "nbconvert_exporter": "python",
   "pygments_lexer": "ipython3",
   "version": "3.7.6"
  }
 },
 "nbformat": 4,
 "nbformat_minor": 4
}
